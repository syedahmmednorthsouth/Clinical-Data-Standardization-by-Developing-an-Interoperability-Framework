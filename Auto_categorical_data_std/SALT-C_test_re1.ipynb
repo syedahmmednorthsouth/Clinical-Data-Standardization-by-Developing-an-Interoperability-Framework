{
 "cells": [
  {
   "cell_type": "code",
   "execution_count": 2,
   "metadata": {},
   "outputs": [],
   "source": [
    "import pandas as pd\n",
    "import matplotlib.pyplot as plt\n",
    "import dataframe_image as dfi\n",
    "#sample data load\n",
    "# df = pd.read_csv('./data/sample_data_100.csv', dtype=str)\n",
    "\n",
    "df = pd.read_csv('./data/my_data/catagorical.csv', dtype=str)"
   ]
  },
  {
   "cell_type": "code",
   "execution_count": 3,
   "outputs": [
    {
     "data": {
      "text/plain": "       Unnamed: 0 test_id    attr_id        attr_name      result  \\\n0           26365  100441   102181.0  LDL Cholesterol          **   \n1           26869  100441   102181.0  LDL Cholesterol          **   \n2           27486  100441   102181.0  LDL Cholesterol           -   \n3           27554  100441   102181.0  LDL Cholesterol          **   \n4           27590  100441   102181.0  LDL Cholesterol         ---   \n...           ...     ...        ...              ...         ...   \n521796    3529340  100401   101458.0     Urobilinogen      Absent   \n521797    3529342  101520   101853.0              AFB   Not found   \n521798    3529387  100450   100736.0      Anti-TB IgM  320.3 U/mL   \n521799    3529389  100105  3002953.0              IgG     < 100.0   \n521800    3529391  100803   100636.0   TB Ab Combined    Negative   \n\n            test_group_name                          test_name    data_type  \n0       Lipid Profile Serum            Lipid Profile Serum (F)  Categorical  \n1       Lipid Profile Serum            Lipid Profile Serum (F)  Categorical  \n2       Lipid Profile Serum            Lipid Profile Serum (F)  Categorical  \n3       Lipid Profile Serum            Lipid Profile Serum (F)  Categorical  \n4       Lipid Profile Serum            Lipid Profile Serum (F)  Categorical  \n...                     ...                                ...          ...  \n521796                  NaN               Urobilinogen - Urine  Categorical  \n521797          Z. N. Stain          Pericardial Fluid for AFB  Categorical  \n521798                  NaN                        Anti-TB IgM  Categorical  \n521799                  NaN  Anti Measles Virus Ab (IgG & IgM)  Categorical  \n521800                  NaN     TB Ab Combined (IgG+IgM) (ICT)  Categorical  \n\n[521801 rows x 8 columns]",
      "text/html": "<div>\n<style scoped>\n    .dataframe tbody tr th:only-of-type {\n        vertical-align: middle;\n    }\n\n    .dataframe tbody tr th {\n        vertical-align: top;\n    }\n\n    .dataframe thead th {\n        text-align: right;\n    }\n</style>\n<table border=\"1\" class=\"dataframe\">\n  <thead>\n    <tr style=\"text-align: right;\">\n      <th></th>\n      <th>Unnamed: 0</th>\n      <th>test_id</th>\n      <th>attr_id</th>\n      <th>attr_name</th>\n      <th>result</th>\n      <th>test_group_name</th>\n      <th>test_name</th>\n      <th>data_type</th>\n    </tr>\n  </thead>\n  <tbody>\n    <tr>\n      <th>0</th>\n      <td>26365</td>\n      <td>100441</td>\n      <td>102181.0</td>\n      <td>LDL Cholesterol</td>\n      <td>**</td>\n      <td>Lipid Profile Serum</td>\n      <td>Lipid Profile Serum (F)</td>\n      <td>Categorical</td>\n    </tr>\n    <tr>\n      <th>1</th>\n      <td>26869</td>\n      <td>100441</td>\n      <td>102181.0</td>\n      <td>LDL Cholesterol</td>\n      <td>**</td>\n      <td>Lipid Profile Serum</td>\n      <td>Lipid Profile Serum (F)</td>\n      <td>Categorical</td>\n    </tr>\n    <tr>\n      <th>2</th>\n      <td>27486</td>\n      <td>100441</td>\n      <td>102181.0</td>\n      <td>LDL Cholesterol</td>\n      <td>-</td>\n      <td>Lipid Profile Serum</td>\n      <td>Lipid Profile Serum (F)</td>\n      <td>Categorical</td>\n    </tr>\n    <tr>\n      <th>3</th>\n      <td>27554</td>\n      <td>100441</td>\n      <td>102181.0</td>\n      <td>LDL Cholesterol</td>\n      <td>**</td>\n      <td>Lipid Profile Serum</td>\n      <td>Lipid Profile Serum (F)</td>\n      <td>Categorical</td>\n    </tr>\n    <tr>\n      <th>4</th>\n      <td>27590</td>\n      <td>100441</td>\n      <td>102181.0</td>\n      <td>LDL Cholesterol</td>\n      <td>---</td>\n      <td>Lipid Profile Serum</td>\n      <td>Lipid Profile Serum (F)</td>\n      <td>Categorical</td>\n    </tr>\n    <tr>\n      <th>...</th>\n      <td>...</td>\n      <td>...</td>\n      <td>...</td>\n      <td>...</td>\n      <td>...</td>\n      <td>...</td>\n      <td>...</td>\n      <td>...</td>\n    </tr>\n    <tr>\n      <th>521796</th>\n      <td>3529340</td>\n      <td>100401</td>\n      <td>101458.0</td>\n      <td>Urobilinogen</td>\n      <td>Absent</td>\n      <td>NaN</td>\n      <td>Urobilinogen - Urine</td>\n      <td>Categorical</td>\n    </tr>\n    <tr>\n      <th>521797</th>\n      <td>3529342</td>\n      <td>101520</td>\n      <td>101853.0</td>\n      <td>AFB</td>\n      <td>Not found</td>\n      <td>Z. N. Stain</td>\n      <td>Pericardial Fluid for AFB</td>\n      <td>Categorical</td>\n    </tr>\n    <tr>\n      <th>521798</th>\n      <td>3529387</td>\n      <td>100450</td>\n      <td>100736.0</td>\n      <td>Anti-TB IgM</td>\n      <td>320.3 U/mL</td>\n      <td>NaN</td>\n      <td>Anti-TB IgM</td>\n      <td>Categorical</td>\n    </tr>\n    <tr>\n      <th>521799</th>\n      <td>3529389</td>\n      <td>100105</td>\n      <td>3002953.0</td>\n      <td>IgG</td>\n      <td>&lt; 100.0</td>\n      <td>NaN</td>\n      <td>Anti Measles Virus Ab (IgG &amp; IgM)</td>\n      <td>Categorical</td>\n    </tr>\n    <tr>\n      <th>521800</th>\n      <td>3529391</td>\n      <td>100803</td>\n      <td>100636.0</td>\n      <td>TB Ab Combined</td>\n      <td>Negative</td>\n      <td>NaN</td>\n      <td>TB Ab Combined (IgG+IgM) (ICT)</td>\n      <td>Categorical</td>\n    </tr>\n  </tbody>\n</table>\n<p>521801 rows × 8 columns</p>\n</div>"
     },
     "execution_count": 3,
     "metadata": {},
     "output_type": "execute_result"
    }
   ],
   "source": [
    "df"
   ],
   "metadata": {
    "collapsed": false,
    "pycharm": {
     "name": "#%%\n"
    }
   }
  },
  {
   "cell_type": "code",
   "execution_count": 32,
   "outputs": [],
   "source": [
    "df1 = pd.read_csv('snomed_map.csv', dtype=str)"
   ],
   "metadata": {
    "collapsed": false,
    "pycharm": {
     "name": "#%%\n"
    }
   }
  },
  {
   "cell_type": "code",
   "execution_count": 33,
   "outputs": [
    {
     "data": {
      "text/plain": "   sourceCode                               sourceName sourceFrequency  \\\n0      100391                             Anti-HAV IgM             110   \n1      100455                           Toxoplasma IgM               6   \n2      100918                       Platelet Apheresis            1065   \n3      100637                         Malaria Ag (ICT)              65   \n4      100685                            Urine for C/S               5   \n5      101497                                      CBC             132   \n6      101338                                     VDRL            2138   \n7      100348                      Dengue Antibody IgG             115   \n8      101820             Chikungunya Antibody IgM ICT              22   \n9      101455          Urine Phase contrast microscopy               4   \n10     101339                                   HBs Ag            3965   \n11     100741                          Albumin (Urine)              29   \n12     101592  Grouping+ICT+Cross Matching + Screening             232   \n13     207199                                Autologus               4   \n14     100433                      Dengue Ag NS1 (ICT)            3577   \n15     100317                           Anti-HBc Total             220   \n16     100213             Blood Grouping and Rh Factor            9322   \n17     100631                                Stool R/E            6630   \n18     100158                             HBs Ag (ICT)             266   \n19     101006                              HVS for C/S               7   \n20     100630                              Urine R/M/E            2588   \n21     100388                                 Anti-HCV            3157   \n22    5003345      Complete Urine Analysis (Urine R/E)           36322   \n23     100824    Grouping + Cross Matching + Screening           17462   \n\n   sourceAutoAssignedConceptIds ADD_INFO: matchScore targetConceptId  \\\n0                             5         5       0.63        46272134   \n1                             8         8       0.86         4018588   \n2                            17        17        1.0         4248004   \n3                            11        11       0.47        37397943   \n4                            12        12       0.81         4057313   \n5                            25        25        1.0         4132152   \n6                            22        22       0.89         4299241   \n7                             3         3       0.68         4252868   \n8                            30        30       0.82        37395402   \n9                            24        24        0.9         4123000   \n10                           23        23       0.78         4168615   \n11                           14        14       0.71         4152996   \n12                           26        26        0.3        44806757   \n13                           31        31       0.67         4112258   \n14                            7         7       0.38         4198581   \n15                            2         2       0.55           24006   \n16                            1         1       0.68         4179840   \n17                           10        10       0.45        45768393   \n18                            0         0       0.57         4178879   \n19                           18        18       0.61         4200531   \n20                            9         9       0.29         4299925   \n21                            4         4       0.47        46272311   \n22                           33        33       0.43         4099313   \n23                           15        15       0.48        44806757   \n\n                                 targetConceptName targetVocabularyId  \\\n0                            Hepatitis A virus IgG             SNOMED   \n1   Measurement of Toxoplasma species IgM antibody             SNOMED   \n2                                 Plateletpheresis             SNOMED   \n3     Immunochromatographic malaria screening test             SNOMED   \n4                           Urine sent for culture             SNOMED   \n5                             Complete blood count             SNOMED   \n6                                        VDRL test             SNOMED   \n7                         Anti-dengue IgG antibody             SNOMED   \n8             Chikungunya virus IgM antibody level             SNOMED   \n9                        Phase contrast microscopy             SNOMED   \n10         Hepatitis B surface antigen measurement             SNOMED   \n11                       Urine albumin measurement             SNOMED   \n12                   Blood grouping and crossmatch             SNOMED   \n13                                      Autologous             SNOMED   \n14                          Dengue virus IgM level             SNOMED   \n15                Sickle cell-hemoglobin C disease             SNOMED   \n16                           Rh blood group typing             SNOMED   \n17                                           Stool             SNOMED   \n18                                    Hemoglobin S             SNOMED   \n19                        Taking high vaginal swab             SNOMED   \n20                                           Urine             SNOMED   \n21                           Hepatitis C virus IgM             SNOMED   \n22                                      Urinalysis             SNOMED   \n23                   Blood grouping and crossmatch             SNOMED   \n\n   targetDomainId targetStandardConcept targetChildCount targetParentCount  \\\n0     Observation                     S                0                 2   \n1     Measurement                     S                1                 2   \n2       Procedure                     S                2                 1   \n3     Measurement                     S                0                 1   \n4     Observation                     S                0                 1   \n5     Measurement                     S                3                 1   \n6     Measurement                     S                4                 1   \n7     Observation                     S                0                 2   \n8     Measurement                     S                0                 1   \n9     Observation                     S                0                 1   \n10    Measurement                     S                1                 1   \n11    Measurement                     S                4                 2   \n12    Measurement                     S                0                 1   \n13    Observation                     S                0                 1   \n14    Measurement                     S                0                 1   \n15      Condition                     S                2                 2   \n16    Measurement                     S                0                 1   \n17         Device                     S                7                 1   \n18    Observation                     S                0                 1   \n19      Procedure                     S                0                 1   \n20    Observation                     S                0                 1   \n21    Observation                     S                0                 2   \n22    Measurement                     S               33                 2   \n23    Measurement                     S                0                 1   \n\n   targetConceptClassId targetConceptCode targetValidStartDate  \\\n0             Substance         710448007             20150731   \n1             Procedure         104306008             20020131   \n2             Procedure          72541002             20020131   \n3     Observable Entity   993801000000108             20160401   \n4     Context-dependent         168338000             20020131   \n5             Procedure          26604007             20020131   \n6             Procedure           7786006             20020131   \n7             Substance         409690002             20040731   \n8     Observable Entity  1046291000000106             20160401   \n9       Qualifier Value         258126001             20020131   \n10            Procedure          47758006             20020131   \n11            Procedure         271000000             20020131   \n12            Procedure   803021000000103             20111003   \n13      Qualifier Value         255379001             20020131   \n14            Procedure         315113001             20020131   \n15     Clinical Finding          35434009             20020131   \n16            Procedure         363783003             20020131   \n17      Physical Object         706697005             20140731   \n18            Substance          50095005             20020131   \n19            Procedure         301805004             20020131   \n20            Substance          78014005             20020131   \n21            Substance         710652004             20150731   \n22            Procedure          27171005             20020131   \n23            Procedure   803021000000103             20111003   \n\n   targetValidEndDate targetInvalidReason  \n0            20991231                 NaN  \n1            20991231                 NaN  \n2            20991231                 NaN  \n3            20991231                 NaN  \n4            20991231                 NaN  \n5            20991231                 NaN  \n6            20991231                 NaN  \n7            20991231                 NaN  \n8            20991231                 NaN  \n9            20991231                 NaN  \n10           20991231                 NaN  \n11           20991231                 NaN  \n12           20991231                 NaN  \n13           20991231                 NaN  \n14           20991231                 NaN  \n15           20991231                 NaN  \n16           20991231                 NaN  \n17           20991231                 NaN  \n18           20991231                 NaN  \n19           20991231                 NaN  \n20           20991231                 NaN  \n21           20991231                 NaN  \n22           20991231                 NaN  \n23           20991231                 NaN  ",
      "text/html": "<div>\n<style scoped>\n    .dataframe tbody tr th:only-of-type {\n        vertical-align: middle;\n    }\n\n    .dataframe tbody tr th {\n        vertical-align: top;\n    }\n\n    .dataframe thead th {\n        text-align: right;\n    }\n</style>\n<table border=\"1\" class=\"dataframe\">\n  <thead>\n    <tr style=\"text-align: right;\">\n      <th></th>\n      <th>sourceCode</th>\n      <th>sourceName</th>\n      <th>sourceFrequency</th>\n      <th>sourceAutoAssignedConceptIds</th>\n      <th>ADD_INFO:</th>\n      <th>matchScore</th>\n      <th>targetConceptId</th>\n      <th>targetConceptName</th>\n      <th>targetVocabularyId</th>\n      <th>targetDomainId</th>\n      <th>targetStandardConcept</th>\n      <th>targetChildCount</th>\n      <th>targetParentCount</th>\n      <th>targetConceptClassId</th>\n      <th>targetConceptCode</th>\n      <th>targetValidStartDate</th>\n      <th>targetValidEndDate</th>\n      <th>targetInvalidReason</th>\n    </tr>\n  </thead>\n  <tbody>\n    <tr>\n      <th>0</th>\n      <td>100391</td>\n      <td>Anti-HAV IgM</td>\n      <td>110</td>\n      <td>5</td>\n      <td>5</td>\n      <td>0.63</td>\n      <td>46272134</td>\n      <td>Hepatitis A virus IgG</td>\n      <td>SNOMED</td>\n      <td>Observation</td>\n      <td>S</td>\n      <td>0</td>\n      <td>2</td>\n      <td>Substance</td>\n      <td>710448007</td>\n      <td>20150731</td>\n      <td>20991231</td>\n      <td>NaN</td>\n    </tr>\n    <tr>\n      <th>1</th>\n      <td>100455</td>\n      <td>Toxoplasma IgM</td>\n      <td>6</td>\n      <td>8</td>\n      <td>8</td>\n      <td>0.86</td>\n      <td>4018588</td>\n      <td>Measurement of Toxoplasma species IgM antibody</td>\n      <td>SNOMED</td>\n      <td>Measurement</td>\n      <td>S</td>\n      <td>1</td>\n      <td>2</td>\n      <td>Procedure</td>\n      <td>104306008</td>\n      <td>20020131</td>\n      <td>20991231</td>\n      <td>NaN</td>\n    </tr>\n    <tr>\n      <th>2</th>\n      <td>100918</td>\n      <td>Platelet Apheresis</td>\n      <td>1065</td>\n      <td>17</td>\n      <td>17</td>\n      <td>1.0</td>\n      <td>4248004</td>\n      <td>Plateletpheresis</td>\n      <td>SNOMED</td>\n      <td>Procedure</td>\n      <td>S</td>\n      <td>2</td>\n      <td>1</td>\n      <td>Procedure</td>\n      <td>72541002</td>\n      <td>20020131</td>\n      <td>20991231</td>\n      <td>NaN</td>\n    </tr>\n    <tr>\n      <th>3</th>\n      <td>100637</td>\n      <td>Malaria Ag (ICT)</td>\n      <td>65</td>\n      <td>11</td>\n      <td>11</td>\n      <td>0.47</td>\n      <td>37397943</td>\n      <td>Immunochromatographic malaria screening test</td>\n      <td>SNOMED</td>\n      <td>Measurement</td>\n      <td>S</td>\n      <td>0</td>\n      <td>1</td>\n      <td>Observable Entity</td>\n      <td>993801000000108</td>\n      <td>20160401</td>\n      <td>20991231</td>\n      <td>NaN</td>\n    </tr>\n    <tr>\n      <th>4</th>\n      <td>100685</td>\n      <td>Urine for C/S</td>\n      <td>5</td>\n      <td>12</td>\n      <td>12</td>\n      <td>0.81</td>\n      <td>4057313</td>\n      <td>Urine sent for culture</td>\n      <td>SNOMED</td>\n      <td>Observation</td>\n      <td>S</td>\n      <td>0</td>\n      <td>1</td>\n      <td>Context-dependent</td>\n      <td>168338000</td>\n      <td>20020131</td>\n      <td>20991231</td>\n      <td>NaN</td>\n    </tr>\n    <tr>\n      <th>5</th>\n      <td>101497</td>\n      <td>CBC</td>\n      <td>132</td>\n      <td>25</td>\n      <td>25</td>\n      <td>1.0</td>\n      <td>4132152</td>\n      <td>Complete blood count</td>\n      <td>SNOMED</td>\n      <td>Measurement</td>\n      <td>S</td>\n      <td>3</td>\n      <td>1</td>\n      <td>Procedure</td>\n      <td>26604007</td>\n      <td>20020131</td>\n      <td>20991231</td>\n      <td>NaN</td>\n    </tr>\n    <tr>\n      <th>6</th>\n      <td>101338</td>\n      <td>VDRL</td>\n      <td>2138</td>\n      <td>22</td>\n      <td>22</td>\n      <td>0.89</td>\n      <td>4299241</td>\n      <td>VDRL test</td>\n      <td>SNOMED</td>\n      <td>Measurement</td>\n      <td>S</td>\n      <td>4</td>\n      <td>1</td>\n      <td>Procedure</td>\n      <td>7786006</td>\n      <td>20020131</td>\n      <td>20991231</td>\n      <td>NaN</td>\n    </tr>\n    <tr>\n      <th>7</th>\n      <td>100348</td>\n      <td>Dengue Antibody IgG</td>\n      <td>115</td>\n      <td>3</td>\n      <td>3</td>\n      <td>0.68</td>\n      <td>4252868</td>\n      <td>Anti-dengue IgG antibody</td>\n      <td>SNOMED</td>\n      <td>Observation</td>\n      <td>S</td>\n      <td>0</td>\n      <td>2</td>\n      <td>Substance</td>\n      <td>409690002</td>\n      <td>20040731</td>\n      <td>20991231</td>\n      <td>NaN</td>\n    </tr>\n    <tr>\n      <th>8</th>\n      <td>101820</td>\n      <td>Chikungunya Antibody IgM ICT</td>\n      <td>22</td>\n      <td>30</td>\n      <td>30</td>\n      <td>0.82</td>\n      <td>37395402</td>\n      <td>Chikungunya virus IgM antibody level</td>\n      <td>SNOMED</td>\n      <td>Measurement</td>\n      <td>S</td>\n      <td>0</td>\n      <td>1</td>\n      <td>Observable Entity</td>\n      <td>1046291000000106</td>\n      <td>20160401</td>\n      <td>20991231</td>\n      <td>NaN</td>\n    </tr>\n    <tr>\n      <th>9</th>\n      <td>101455</td>\n      <td>Urine Phase contrast microscopy</td>\n      <td>4</td>\n      <td>24</td>\n      <td>24</td>\n      <td>0.9</td>\n      <td>4123000</td>\n      <td>Phase contrast microscopy</td>\n      <td>SNOMED</td>\n      <td>Observation</td>\n      <td>S</td>\n      <td>0</td>\n      <td>1</td>\n      <td>Qualifier Value</td>\n      <td>258126001</td>\n      <td>20020131</td>\n      <td>20991231</td>\n      <td>NaN</td>\n    </tr>\n    <tr>\n      <th>10</th>\n      <td>101339</td>\n      <td>HBs Ag</td>\n      <td>3965</td>\n      <td>23</td>\n      <td>23</td>\n      <td>0.78</td>\n      <td>4168615</td>\n      <td>Hepatitis B surface antigen measurement</td>\n      <td>SNOMED</td>\n      <td>Measurement</td>\n      <td>S</td>\n      <td>1</td>\n      <td>1</td>\n      <td>Procedure</td>\n      <td>47758006</td>\n      <td>20020131</td>\n      <td>20991231</td>\n      <td>NaN</td>\n    </tr>\n    <tr>\n      <th>11</th>\n      <td>100741</td>\n      <td>Albumin (Urine)</td>\n      <td>29</td>\n      <td>14</td>\n      <td>14</td>\n      <td>0.71</td>\n      <td>4152996</td>\n      <td>Urine albumin measurement</td>\n      <td>SNOMED</td>\n      <td>Measurement</td>\n      <td>S</td>\n      <td>4</td>\n      <td>2</td>\n      <td>Procedure</td>\n      <td>271000000</td>\n      <td>20020131</td>\n      <td>20991231</td>\n      <td>NaN</td>\n    </tr>\n    <tr>\n      <th>12</th>\n      <td>101592</td>\n      <td>Grouping+ICT+Cross Matching + Screening</td>\n      <td>232</td>\n      <td>26</td>\n      <td>26</td>\n      <td>0.3</td>\n      <td>44806757</td>\n      <td>Blood grouping and crossmatch</td>\n      <td>SNOMED</td>\n      <td>Measurement</td>\n      <td>S</td>\n      <td>0</td>\n      <td>1</td>\n      <td>Procedure</td>\n      <td>803021000000103</td>\n      <td>20111003</td>\n      <td>20991231</td>\n      <td>NaN</td>\n    </tr>\n    <tr>\n      <th>13</th>\n      <td>207199</td>\n      <td>Autologus</td>\n      <td>4</td>\n      <td>31</td>\n      <td>31</td>\n      <td>0.67</td>\n      <td>4112258</td>\n      <td>Autologous</td>\n      <td>SNOMED</td>\n      <td>Observation</td>\n      <td>S</td>\n      <td>0</td>\n      <td>1</td>\n      <td>Qualifier Value</td>\n      <td>255379001</td>\n      <td>20020131</td>\n      <td>20991231</td>\n      <td>NaN</td>\n    </tr>\n    <tr>\n      <th>14</th>\n      <td>100433</td>\n      <td>Dengue Ag NS1 (ICT)</td>\n      <td>3577</td>\n      <td>7</td>\n      <td>7</td>\n      <td>0.38</td>\n      <td>4198581</td>\n      <td>Dengue virus IgM level</td>\n      <td>SNOMED</td>\n      <td>Measurement</td>\n      <td>S</td>\n      <td>0</td>\n      <td>1</td>\n      <td>Procedure</td>\n      <td>315113001</td>\n      <td>20020131</td>\n      <td>20991231</td>\n      <td>NaN</td>\n    </tr>\n    <tr>\n      <th>15</th>\n      <td>100317</td>\n      <td>Anti-HBc Total</td>\n      <td>220</td>\n      <td>2</td>\n      <td>2</td>\n      <td>0.55</td>\n      <td>24006</td>\n      <td>Sickle cell-hemoglobin C disease</td>\n      <td>SNOMED</td>\n      <td>Condition</td>\n      <td>S</td>\n      <td>2</td>\n      <td>2</td>\n      <td>Clinical Finding</td>\n      <td>35434009</td>\n      <td>20020131</td>\n      <td>20991231</td>\n      <td>NaN</td>\n    </tr>\n    <tr>\n      <th>16</th>\n      <td>100213</td>\n      <td>Blood Grouping and Rh Factor</td>\n      <td>9322</td>\n      <td>1</td>\n      <td>1</td>\n      <td>0.68</td>\n      <td>4179840</td>\n      <td>Rh blood group typing</td>\n      <td>SNOMED</td>\n      <td>Measurement</td>\n      <td>S</td>\n      <td>0</td>\n      <td>1</td>\n      <td>Procedure</td>\n      <td>363783003</td>\n      <td>20020131</td>\n      <td>20991231</td>\n      <td>NaN</td>\n    </tr>\n    <tr>\n      <th>17</th>\n      <td>100631</td>\n      <td>Stool R/E</td>\n      <td>6630</td>\n      <td>10</td>\n      <td>10</td>\n      <td>0.45</td>\n      <td>45768393</td>\n      <td>Stool</td>\n      <td>SNOMED</td>\n      <td>Device</td>\n      <td>S</td>\n      <td>7</td>\n      <td>1</td>\n      <td>Physical Object</td>\n      <td>706697005</td>\n      <td>20140731</td>\n      <td>20991231</td>\n      <td>NaN</td>\n    </tr>\n    <tr>\n      <th>18</th>\n      <td>100158</td>\n      <td>HBs Ag (ICT)</td>\n      <td>266</td>\n      <td>0</td>\n      <td>0</td>\n      <td>0.57</td>\n      <td>4178879</td>\n      <td>Hemoglobin S</td>\n      <td>SNOMED</td>\n      <td>Observation</td>\n      <td>S</td>\n      <td>0</td>\n      <td>1</td>\n      <td>Substance</td>\n      <td>50095005</td>\n      <td>20020131</td>\n      <td>20991231</td>\n      <td>NaN</td>\n    </tr>\n    <tr>\n      <th>19</th>\n      <td>101006</td>\n      <td>HVS for C/S</td>\n      <td>7</td>\n      <td>18</td>\n      <td>18</td>\n      <td>0.61</td>\n      <td>4200531</td>\n      <td>Taking high vaginal swab</td>\n      <td>SNOMED</td>\n      <td>Procedure</td>\n      <td>S</td>\n      <td>0</td>\n      <td>1</td>\n      <td>Procedure</td>\n      <td>301805004</td>\n      <td>20020131</td>\n      <td>20991231</td>\n      <td>NaN</td>\n    </tr>\n    <tr>\n      <th>20</th>\n      <td>100630</td>\n      <td>Urine R/M/E</td>\n      <td>2588</td>\n      <td>9</td>\n      <td>9</td>\n      <td>0.29</td>\n      <td>4299925</td>\n      <td>Urine</td>\n      <td>SNOMED</td>\n      <td>Observation</td>\n      <td>S</td>\n      <td>0</td>\n      <td>1</td>\n      <td>Substance</td>\n      <td>78014005</td>\n      <td>20020131</td>\n      <td>20991231</td>\n      <td>NaN</td>\n    </tr>\n    <tr>\n      <th>21</th>\n      <td>100388</td>\n      <td>Anti-HCV</td>\n      <td>3157</td>\n      <td>4</td>\n      <td>4</td>\n      <td>0.47</td>\n      <td>46272311</td>\n      <td>Hepatitis C virus IgM</td>\n      <td>SNOMED</td>\n      <td>Observation</td>\n      <td>S</td>\n      <td>0</td>\n      <td>2</td>\n      <td>Substance</td>\n      <td>710652004</td>\n      <td>20150731</td>\n      <td>20991231</td>\n      <td>NaN</td>\n    </tr>\n    <tr>\n      <th>22</th>\n      <td>5003345</td>\n      <td>Complete Urine Analysis (Urine R/E)</td>\n      <td>36322</td>\n      <td>33</td>\n      <td>33</td>\n      <td>0.43</td>\n      <td>4099313</td>\n      <td>Urinalysis</td>\n      <td>SNOMED</td>\n      <td>Measurement</td>\n      <td>S</td>\n      <td>33</td>\n      <td>2</td>\n      <td>Procedure</td>\n      <td>27171005</td>\n      <td>20020131</td>\n      <td>20991231</td>\n      <td>NaN</td>\n    </tr>\n    <tr>\n      <th>23</th>\n      <td>100824</td>\n      <td>Grouping + Cross Matching + Screening</td>\n      <td>17462</td>\n      <td>15</td>\n      <td>15</td>\n      <td>0.48</td>\n      <td>44806757</td>\n      <td>Blood grouping and crossmatch</td>\n      <td>SNOMED</td>\n      <td>Measurement</td>\n      <td>S</td>\n      <td>0</td>\n      <td>1</td>\n      <td>Procedure</td>\n      <td>803021000000103</td>\n      <td>20111003</td>\n      <td>20991231</td>\n      <td>NaN</td>\n    </tr>\n  </tbody>\n</table>\n</div>"
     },
     "execution_count": 33,
     "metadata": {},
     "output_type": "execute_result"
    }
   ],
   "source": [
    "df1"
   ],
   "metadata": {
    "collapsed": false,
    "pycharm": {
     "name": "#%%\n"
    }
   }
  },
  {
   "cell_type": "code",
   "execution_count": 34,
   "outputs": [],
   "source": [
    "df1 = df1[['sourceCode','sourceName','targetConceptName','targetConceptId']]"
   ],
   "metadata": {
    "collapsed": false,
    "pycharm": {
     "name": "#%%\n"
    }
   }
  },
  {
   "cell_type": "code",
   "execution_count": 35,
   "outputs": [
    {
     "data": {
      "text/plain": "   sourceCode                               sourceName  \\\n0      100391                             Anti-HAV IgM   \n1      100455                           Toxoplasma IgM   \n2      100918                       Platelet Apheresis   \n3      100637                         Malaria Ag (ICT)   \n4      100685                            Urine for C/S   \n5      101497                                      CBC   \n6      101338                                     VDRL   \n7      100348                      Dengue Antibody IgG   \n8      101820             Chikungunya Antibody IgM ICT   \n9      101455          Urine Phase contrast microscopy   \n10     101339                                   HBs Ag   \n11     100741                          Albumin (Urine)   \n12     101592  Grouping+ICT+Cross Matching + Screening   \n13     207199                                Autologus   \n14     100433                      Dengue Ag NS1 (ICT)   \n15     100317                           Anti-HBc Total   \n16     100213             Blood Grouping and Rh Factor   \n17     100631                                Stool R/E   \n18     100158                             HBs Ag (ICT)   \n19     101006                              HVS for C/S   \n20     100630                              Urine R/M/E   \n21     100388                                 Anti-HCV   \n22    5003345      Complete Urine Analysis (Urine R/E)   \n23     100824    Grouping + Cross Matching + Screening   \n\n                                 targetConceptName targetConceptId  \n0                            Hepatitis A virus IgG        46272134  \n1   Measurement of Toxoplasma species IgM antibody         4018588  \n2                                 Plateletpheresis         4248004  \n3     Immunochromatographic malaria screening test        37397943  \n4                           Urine sent for culture         4057313  \n5                             Complete blood count         4132152  \n6                                        VDRL test         4299241  \n7                         Anti-dengue IgG antibody         4252868  \n8             Chikungunya virus IgM antibody level        37395402  \n9                        Phase contrast microscopy         4123000  \n10         Hepatitis B surface antigen measurement         4168615  \n11                       Urine albumin measurement         4152996  \n12                   Blood grouping and crossmatch        44806757  \n13                                      Autologous         4112258  \n14                          Dengue virus IgM level         4198581  \n15                Sickle cell-hemoglobin C disease           24006  \n16                           Rh blood group typing         4179840  \n17                                           Stool        45768393  \n18                                    Hemoglobin S         4178879  \n19                        Taking high vaginal swab         4200531  \n20                                           Urine         4299925  \n21                           Hepatitis C virus IgM        46272311  \n22                                      Urinalysis         4099313  \n23                   Blood grouping and crossmatch        44806757  ",
      "text/html": "<div>\n<style scoped>\n    .dataframe tbody tr th:only-of-type {\n        vertical-align: middle;\n    }\n\n    .dataframe tbody tr th {\n        vertical-align: top;\n    }\n\n    .dataframe thead th {\n        text-align: right;\n    }\n</style>\n<table border=\"1\" class=\"dataframe\">\n  <thead>\n    <tr style=\"text-align: right;\">\n      <th></th>\n      <th>sourceCode</th>\n      <th>sourceName</th>\n      <th>targetConceptName</th>\n      <th>targetConceptId</th>\n    </tr>\n  </thead>\n  <tbody>\n    <tr>\n      <th>0</th>\n      <td>100391</td>\n      <td>Anti-HAV IgM</td>\n      <td>Hepatitis A virus IgG</td>\n      <td>46272134</td>\n    </tr>\n    <tr>\n      <th>1</th>\n      <td>100455</td>\n      <td>Toxoplasma IgM</td>\n      <td>Measurement of Toxoplasma species IgM antibody</td>\n      <td>4018588</td>\n    </tr>\n    <tr>\n      <th>2</th>\n      <td>100918</td>\n      <td>Platelet Apheresis</td>\n      <td>Plateletpheresis</td>\n      <td>4248004</td>\n    </tr>\n    <tr>\n      <th>3</th>\n      <td>100637</td>\n      <td>Malaria Ag (ICT)</td>\n      <td>Immunochromatographic malaria screening test</td>\n      <td>37397943</td>\n    </tr>\n    <tr>\n      <th>4</th>\n      <td>100685</td>\n      <td>Urine for C/S</td>\n      <td>Urine sent for culture</td>\n      <td>4057313</td>\n    </tr>\n    <tr>\n      <th>5</th>\n      <td>101497</td>\n      <td>CBC</td>\n      <td>Complete blood count</td>\n      <td>4132152</td>\n    </tr>\n    <tr>\n      <th>6</th>\n      <td>101338</td>\n      <td>VDRL</td>\n      <td>VDRL test</td>\n      <td>4299241</td>\n    </tr>\n    <tr>\n      <th>7</th>\n      <td>100348</td>\n      <td>Dengue Antibody IgG</td>\n      <td>Anti-dengue IgG antibody</td>\n      <td>4252868</td>\n    </tr>\n    <tr>\n      <th>8</th>\n      <td>101820</td>\n      <td>Chikungunya Antibody IgM ICT</td>\n      <td>Chikungunya virus IgM antibody level</td>\n      <td>37395402</td>\n    </tr>\n    <tr>\n      <th>9</th>\n      <td>101455</td>\n      <td>Urine Phase contrast microscopy</td>\n      <td>Phase contrast microscopy</td>\n      <td>4123000</td>\n    </tr>\n    <tr>\n      <th>10</th>\n      <td>101339</td>\n      <td>HBs Ag</td>\n      <td>Hepatitis B surface antigen measurement</td>\n      <td>4168615</td>\n    </tr>\n    <tr>\n      <th>11</th>\n      <td>100741</td>\n      <td>Albumin (Urine)</td>\n      <td>Urine albumin measurement</td>\n      <td>4152996</td>\n    </tr>\n    <tr>\n      <th>12</th>\n      <td>101592</td>\n      <td>Grouping+ICT+Cross Matching + Screening</td>\n      <td>Blood grouping and crossmatch</td>\n      <td>44806757</td>\n    </tr>\n    <tr>\n      <th>13</th>\n      <td>207199</td>\n      <td>Autologus</td>\n      <td>Autologous</td>\n      <td>4112258</td>\n    </tr>\n    <tr>\n      <th>14</th>\n      <td>100433</td>\n      <td>Dengue Ag NS1 (ICT)</td>\n      <td>Dengue virus IgM level</td>\n      <td>4198581</td>\n    </tr>\n    <tr>\n      <th>15</th>\n      <td>100317</td>\n      <td>Anti-HBc Total</td>\n      <td>Sickle cell-hemoglobin C disease</td>\n      <td>24006</td>\n    </tr>\n    <tr>\n      <th>16</th>\n      <td>100213</td>\n      <td>Blood Grouping and Rh Factor</td>\n      <td>Rh blood group typing</td>\n      <td>4179840</td>\n    </tr>\n    <tr>\n      <th>17</th>\n      <td>100631</td>\n      <td>Stool R/E</td>\n      <td>Stool</td>\n      <td>45768393</td>\n    </tr>\n    <tr>\n      <th>18</th>\n      <td>100158</td>\n      <td>HBs Ag (ICT)</td>\n      <td>Hemoglobin S</td>\n      <td>4178879</td>\n    </tr>\n    <tr>\n      <th>19</th>\n      <td>101006</td>\n      <td>HVS for C/S</td>\n      <td>Taking high vaginal swab</td>\n      <td>4200531</td>\n    </tr>\n    <tr>\n      <th>20</th>\n      <td>100630</td>\n      <td>Urine R/M/E</td>\n      <td>Urine</td>\n      <td>4299925</td>\n    </tr>\n    <tr>\n      <th>21</th>\n      <td>100388</td>\n      <td>Anti-HCV</td>\n      <td>Hepatitis C virus IgM</td>\n      <td>46272311</td>\n    </tr>\n    <tr>\n      <th>22</th>\n      <td>5003345</td>\n      <td>Complete Urine Analysis (Urine R/E)</td>\n      <td>Urinalysis</td>\n      <td>4099313</td>\n    </tr>\n    <tr>\n      <th>23</th>\n      <td>100824</td>\n      <td>Grouping + Cross Matching + Screening</td>\n      <td>Blood grouping and crossmatch</td>\n      <td>44806757</td>\n    </tr>\n  </tbody>\n</table>\n</div>"
     },
     "execution_count": 35,
     "metadata": {},
     "output_type": "execute_result"
    }
   ],
   "source": [
    "df1"
   ],
   "metadata": {
    "collapsed": false,
    "pycharm": {
     "name": "#%%\n"
    }
   }
  },
  {
   "cell_type": "code",
   "execution_count": 36,
   "outputs": [],
   "source": [
    "df1 =df1.iloc[0:15]"
   ],
   "metadata": {
    "collapsed": false,
    "pycharm": {
     "name": "#%%\n"
    }
   }
  },
  {
   "cell_type": "code",
   "execution_count": 37,
   "outputs": [
    {
     "data": {
      "text/plain": "   sourceCode                               sourceName  \\\n0      100391                             Anti-HAV IgM   \n1      100455                           Toxoplasma IgM   \n2      100918                       Platelet Apheresis   \n3      100637                         Malaria Ag (ICT)   \n4      100685                            Urine for C/S   \n5      101497                                      CBC   \n6      101338                                     VDRL   \n7      100348                      Dengue Antibody IgG   \n8      101820             Chikungunya Antibody IgM ICT   \n9      101455          Urine Phase contrast microscopy   \n10     101339                                   HBs Ag   \n11     100741                          Albumin (Urine)   \n12     101592  Grouping+ICT+Cross Matching + Screening   \n13     207199                                Autologus   \n14     100433                      Dengue Ag NS1 (ICT)   \n\n                                 targetConceptName targetConceptId  \n0                            Hepatitis A virus IgG        46272134  \n1   Measurement of Toxoplasma species IgM antibody         4018588  \n2                                 Plateletpheresis         4248004  \n3     Immunochromatographic malaria screening test        37397943  \n4                           Urine sent for culture         4057313  \n5                             Complete blood count         4132152  \n6                                        VDRL test         4299241  \n7                         Anti-dengue IgG antibody         4252868  \n8             Chikungunya virus IgM antibody level        37395402  \n9                        Phase contrast microscopy         4123000  \n10         Hepatitis B surface antigen measurement         4168615  \n11                       Urine albumin measurement         4152996  \n12                   Blood grouping and crossmatch        44806757  \n13                                      Autologous         4112258  \n14                          Dengue virus IgM level         4198581  ",
      "text/html": "<div>\n<style scoped>\n    .dataframe tbody tr th:only-of-type {\n        vertical-align: middle;\n    }\n\n    .dataframe tbody tr th {\n        vertical-align: top;\n    }\n\n    .dataframe thead th {\n        text-align: right;\n    }\n</style>\n<table border=\"1\" class=\"dataframe\">\n  <thead>\n    <tr style=\"text-align: right;\">\n      <th></th>\n      <th>sourceCode</th>\n      <th>sourceName</th>\n      <th>targetConceptName</th>\n      <th>targetConceptId</th>\n    </tr>\n  </thead>\n  <tbody>\n    <tr>\n      <th>0</th>\n      <td>100391</td>\n      <td>Anti-HAV IgM</td>\n      <td>Hepatitis A virus IgG</td>\n      <td>46272134</td>\n    </tr>\n    <tr>\n      <th>1</th>\n      <td>100455</td>\n      <td>Toxoplasma IgM</td>\n      <td>Measurement of Toxoplasma species IgM antibody</td>\n      <td>4018588</td>\n    </tr>\n    <tr>\n      <th>2</th>\n      <td>100918</td>\n      <td>Platelet Apheresis</td>\n      <td>Plateletpheresis</td>\n      <td>4248004</td>\n    </tr>\n    <tr>\n      <th>3</th>\n      <td>100637</td>\n      <td>Malaria Ag (ICT)</td>\n      <td>Immunochromatographic malaria screening test</td>\n      <td>37397943</td>\n    </tr>\n    <tr>\n      <th>4</th>\n      <td>100685</td>\n      <td>Urine for C/S</td>\n      <td>Urine sent for culture</td>\n      <td>4057313</td>\n    </tr>\n    <tr>\n      <th>5</th>\n      <td>101497</td>\n      <td>CBC</td>\n      <td>Complete blood count</td>\n      <td>4132152</td>\n    </tr>\n    <tr>\n      <th>6</th>\n      <td>101338</td>\n      <td>VDRL</td>\n      <td>VDRL test</td>\n      <td>4299241</td>\n    </tr>\n    <tr>\n      <th>7</th>\n      <td>100348</td>\n      <td>Dengue Antibody IgG</td>\n      <td>Anti-dengue IgG antibody</td>\n      <td>4252868</td>\n    </tr>\n    <tr>\n      <th>8</th>\n      <td>101820</td>\n      <td>Chikungunya Antibody IgM ICT</td>\n      <td>Chikungunya virus IgM antibody level</td>\n      <td>37395402</td>\n    </tr>\n    <tr>\n      <th>9</th>\n      <td>101455</td>\n      <td>Urine Phase contrast microscopy</td>\n      <td>Phase contrast microscopy</td>\n      <td>4123000</td>\n    </tr>\n    <tr>\n      <th>10</th>\n      <td>101339</td>\n      <td>HBs Ag</td>\n      <td>Hepatitis B surface antigen measurement</td>\n      <td>4168615</td>\n    </tr>\n    <tr>\n      <th>11</th>\n      <td>100741</td>\n      <td>Albumin (Urine)</td>\n      <td>Urine albumin measurement</td>\n      <td>4152996</td>\n    </tr>\n    <tr>\n      <th>12</th>\n      <td>101592</td>\n      <td>Grouping+ICT+Cross Matching + Screening</td>\n      <td>Blood grouping and crossmatch</td>\n      <td>44806757</td>\n    </tr>\n    <tr>\n      <th>13</th>\n      <td>207199</td>\n      <td>Autologus</td>\n      <td>Autologous</td>\n      <td>4112258</td>\n    </tr>\n    <tr>\n      <th>14</th>\n      <td>100433</td>\n      <td>Dengue Ag NS1 (ICT)</td>\n      <td>Dengue virus IgM level</td>\n      <td>4198581</td>\n    </tr>\n  </tbody>\n</table>\n</div>"
     },
     "execution_count": 37,
     "metadata": {},
     "output_type": "execute_result"
    }
   ],
   "source": [
    "df1"
   ],
   "metadata": {
    "collapsed": false,
    "pycharm": {
     "name": "#%%\n"
    }
   }
  },
  {
   "cell_type": "code",
   "execution_count": 38,
   "outputs": [],
   "source": [
    "dfi.export(df1, \"./snomed_map_List.png\")"
   ],
   "metadata": {
    "collapsed": false,
    "pycharm": {
     "name": "#%%\n"
    }
   }
  },
  {
   "cell_type": "code",
   "execution_count": 4,
   "outputs": [],
   "source": [
    "df = df.drop(['Unnamed: 0'], axis=1)"
   ],
   "metadata": {
    "collapsed": false,
    "pycharm": {
     "name": "#%%\n"
    }
   }
  },
  {
   "cell_type": "code",
   "execution_count": 5,
   "outputs": [
    {
     "data": {
      "text/plain": "       test_id    attr_id        attr_name      result      test_group_name  \\\n0       100441   102181.0  LDL Cholesterol          **  Lipid Profile Serum   \n1       100441   102181.0  LDL Cholesterol          **  Lipid Profile Serum   \n2       100441   102181.0  LDL Cholesterol           -  Lipid Profile Serum   \n3       100441   102181.0  LDL Cholesterol          **  Lipid Profile Serum   \n4       100441   102181.0  LDL Cholesterol         ---  Lipid Profile Serum   \n...        ...        ...              ...         ...                  ...   \n521796  100401   101458.0     Urobilinogen      Absent                  NaN   \n521797  101520   101853.0              AFB   Not found          Z. N. Stain   \n521798  100450   100736.0      Anti-TB IgM  320.3 U/mL                  NaN   \n521799  100105  3002953.0              IgG     < 100.0                  NaN   \n521800  100803   100636.0   TB Ab Combined    Negative                  NaN   \n\n                                test_name    data_type  \n0                 Lipid Profile Serum (F)  Categorical  \n1                 Lipid Profile Serum (F)  Categorical  \n2                 Lipid Profile Serum (F)  Categorical  \n3                 Lipid Profile Serum (F)  Categorical  \n4                 Lipid Profile Serum (F)  Categorical  \n...                                   ...          ...  \n521796               Urobilinogen - Urine  Categorical  \n521797          Pericardial Fluid for AFB  Categorical  \n521798                        Anti-TB IgM  Categorical  \n521799  Anti Measles Virus Ab (IgG & IgM)  Categorical  \n521800     TB Ab Combined (IgG+IgM) (ICT)  Categorical  \n\n[521801 rows x 7 columns]",
      "text/html": "<div>\n<style scoped>\n    .dataframe tbody tr th:only-of-type {\n        vertical-align: middle;\n    }\n\n    .dataframe tbody tr th {\n        vertical-align: top;\n    }\n\n    .dataframe thead th {\n        text-align: right;\n    }\n</style>\n<table border=\"1\" class=\"dataframe\">\n  <thead>\n    <tr style=\"text-align: right;\">\n      <th></th>\n      <th>test_id</th>\n      <th>attr_id</th>\n      <th>attr_name</th>\n      <th>result</th>\n      <th>test_group_name</th>\n      <th>test_name</th>\n      <th>data_type</th>\n    </tr>\n  </thead>\n  <tbody>\n    <tr>\n      <th>0</th>\n      <td>100441</td>\n      <td>102181.0</td>\n      <td>LDL Cholesterol</td>\n      <td>**</td>\n      <td>Lipid Profile Serum</td>\n      <td>Lipid Profile Serum (F)</td>\n      <td>Categorical</td>\n    </tr>\n    <tr>\n      <th>1</th>\n      <td>100441</td>\n      <td>102181.0</td>\n      <td>LDL Cholesterol</td>\n      <td>**</td>\n      <td>Lipid Profile Serum</td>\n      <td>Lipid Profile Serum (F)</td>\n      <td>Categorical</td>\n    </tr>\n    <tr>\n      <th>2</th>\n      <td>100441</td>\n      <td>102181.0</td>\n      <td>LDL Cholesterol</td>\n      <td>-</td>\n      <td>Lipid Profile Serum</td>\n      <td>Lipid Profile Serum (F)</td>\n      <td>Categorical</td>\n    </tr>\n    <tr>\n      <th>3</th>\n      <td>100441</td>\n      <td>102181.0</td>\n      <td>LDL Cholesterol</td>\n      <td>**</td>\n      <td>Lipid Profile Serum</td>\n      <td>Lipid Profile Serum (F)</td>\n      <td>Categorical</td>\n    </tr>\n    <tr>\n      <th>4</th>\n      <td>100441</td>\n      <td>102181.0</td>\n      <td>LDL Cholesterol</td>\n      <td>---</td>\n      <td>Lipid Profile Serum</td>\n      <td>Lipid Profile Serum (F)</td>\n      <td>Categorical</td>\n    </tr>\n    <tr>\n      <th>...</th>\n      <td>...</td>\n      <td>...</td>\n      <td>...</td>\n      <td>...</td>\n      <td>...</td>\n      <td>...</td>\n      <td>...</td>\n    </tr>\n    <tr>\n      <th>521796</th>\n      <td>100401</td>\n      <td>101458.0</td>\n      <td>Urobilinogen</td>\n      <td>Absent</td>\n      <td>NaN</td>\n      <td>Urobilinogen - Urine</td>\n      <td>Categorical</td>\n    </tr>\n    <tr>\n      <th>521797</th>\n      <td>101520</td>\n      <td>101853.0</td>\n      <td>AFB</td>\n      <td>Not found</td>\n      <td>Z. N. Stain</td>\n      <td>Pericardial Fluid for AFB</td>\n      <td>Categorical</td>\n    </tr>\n    <tr>\n      <th>521798</th>\n      <td>100450</td>\n      <td>100736.0</td>\n      <td>Anti-TB IgM</td>\n      <td>320.3 U/mL</td>\n      <td>NaN</td>\n      <td>Anti-TB IgM</td>\n      <td>Categorical</td>\n    </tr>\n    <tr>\n      <th>521799</th>\n      <td>100105</td>\n      <td>3002953.0</td>\n      <td>IgG</td>\n      <td>&lt; 100.0</td>\n      <td>NaN</td>\n      <td>Anti Measles Virus Ab (IgG &amp; IgM)</td>\n      <td>Categorical</td>\n    </tr>\n    <tr>\n      <th>521800</th>\n      <td>100803</td>\n      <td>100636.0</td>\n      <td>TB Ab Combined</td>\n      <td>Negative</td>\n      <td>NaN</td>\n      <td>TB Ab Combined (IgG+IgM) (ICT)</td>\n      <td>Categorical</td>\n    </tr>\n  </tbody>\n</table>\n<p>521801 rows × 7 columns</p>\n</div>"
     },
     "execution_count": 5,
     "metadata": {},
     "output_type": "execute_result"
    }
   ],
   "source": [
    "df"
   ],
   "metadata": {
    "collapsed": false,
    "pycharm": {
     "name": "#%%\n"
    }
   }
  },
  {
   "cell_type": "code",
   "execution_count": 6,
   "outputs": [
    {
     "data": {
      "text/plain": "        test_id    attr_id            attr_name  result       test_group_name  \\\n18348    100630   102134.0              Ketones  Absent            ON REQUEST   \n18408    100630   102134.0              Ketones  Absent            ON REQUEST   \n18438    100630   102134.0              Ketones  Absent            ON REQUEST   \n18468    100630   102134.0              Ketones  Absent            ON REQUEST   \n18515    100630   102134.0              Ketones  Absent            ON REQUEST   \n...         ...        ...                  ...     ...                   ...   \n521764   101455  3002941.0              Nitrate  Absent  CHEMICAL EXAMINATION   \n521765   101455  3002942.0         Ketones body  Absent  CHEMICAL EXAMINATION   \n521778  5031450  3002831.0  Urine for Myoglobin  Absent                   NaN   \n521779  5031450  3002831.0  Urine for Myoglobin  Absent                   NaN   \n521796   100401   101458.0         Urobilinogen  Absent                   NaN   \n\n                              test_name    data_type  \n18348                       Urine R/M/E  Categorical  \n18408                       Urine R/M/E  Categorical  \n18438                       Urine R/M/E  Categorical  \n18468                       Urine R/M/E  Categorical  \n18515                       Urine R/M/E  Categorical  \n...                                 ...          ...  \n521764  Urine Phase contrast microscopy  Categorical  \n521765  Urine Phase contrast microscopy  Categorical  \n521778              Urine for Myoglobin  Categorical  \n521779              Urine for Myoglobin  Categorical  \n521796             Urobilinogen - Urine  Categorical  \n\n[36548 rows x 7 columns]",
      "text/html": "<div>\n<style scoped>\n    .dataframe tbody tr th:only-of-type {\n        vertical-align: middle;\n    }\n\n    .dataframe tbody tr th {\n        vertical-align: top;\n    }\n\n    .dataframe thead th {\n        text-align: right;\n    }\n</style>\n<table border=\"1\" class=\"dataframe\">\n  <thead>\n    <tr style=\"text-align: right;\">\n      <th></th>\n      <th>test_id</th>\n      <th>attr_id</th>\n      <th>attr_name</th>\n      <th>result</th>\n      <th>test_group_name</th>\n      <th>test_name</th>\n      <th>data_type</th>\n    </tr>\n  </thead>\n  <tbody>\n    <tr>\n      <th>18348</th>\n      <td>100630</td>\n      <td>102134.0</td>\n      <td>Ketones</td>\n      <td>Absent</td>\n      <td>ON REQUEST</td>\n      <td>Urine R/M/E</td>\n      <td>Categorical</td>\n    </tr>\n    <tr>\n      <th>18408</th>\n      <td>100630</td>\n      <td>102134.0</td>\n      <td>Ketones</td>\n      <td>Absent</td>\n      <td>ON REQUEST</td>\n      <td>Urine R/M/E</td>\n      <td>Categorical</td>\n    </tr>\n    <tr>\n      <th>18438</th>\n      <td>100630</td>\n      <td>102134.0</td>\n      <td>Ketones</td>\n      <td>Absent</td>\n      <td>ON REQUEST</td>\n      <td>Urine R/M/E</td>\n      <td>Categorical</td>\n    </tr>\n    <tr>\n      <th>18468</th>\n      <td>100630</td>\n      <td>102134.0</td>\n      <td>Ketones</td>\n      <td>Absent</td>\n      <td>ON REQUEST</td>\n      <td>Urine R/M/E</td>\n      <td>Categorical</td>\n    </tr>\n    <tr>\n      <th>18515</th>\n      <td>100630</td>\n      <td>102134.0</td>\n      <td>Ketones</td>\n      <td>Absent</td>\n      <td>ON REQUEST</td>\n      <td>Urine R/M/E</td>\n      <td>Categorical</td>\n    </tr>\n    <tr>\n      <th>...</th>\n      <td>...</td>\n      <td>...</td>\n      <td>...</td>\n      <td>...</td>\n      <td>...</td>\n      <td>...</td>\n      <td>...</td>\n    </tr>\n    <tr>\n      <th>521764</th>\n      <td>101455</td>\n      <td>3002941.0</td>\n      <td>Nitrate</td>\n      <td>Absent</td>\n      <td>CHEMICAL EXAMINATION</td>\n      <td>Urine Phase contrast microscopy</td>\n      <td>Categorical</td>\n    </tr>\n    <tr>\n      <th>521765</th>\n      <td>101455</td>\n      <td>3002942.0</td>\n      <td>Ketones body</td>\n      <td>Absent</td>\n      <td>CHEMICAL EXAMINATION</td>\n      <td>Urine Phase contrast microscopy</td>\n      <td>Categorical</td>\n    </tr>\n    <tr>\n      <th>521778</th>\n      <td>5031450</td>\n      <td>3002831.0</td>\n      <td>Urine for Myoglobin</td>\n      <td>Absent</td>\n      <td>NaN</td>\n      <td>Urine for Myoglobin</td>\n      <td>Categorical</td>\n    </tr>\n    <tr>\n      <th>521779</th>\n      <td>5031450</td>\n      <td>3002831.0</td>\n      <td>Urine for Myoglobin</td>\n      <td>Absent</td>\n      <td>NaN</td>\n      <td>Urine for Myoglobin</td>\n      <td>Categorical</td>\n    </tr>\n    <tr>\n      <th>521796</th>\n      <td>100401</td>\n      <td>101458.0</td>\n      <td>Urobilinogen</td>\n      <td>Absent</td>\n      <td>NaN</td>\n      <td>Urobilinogen - Urine</td>\n      <td>Categorical</td>\n    </tr>\n  </tbody>\n</table>\n<p>36548 rows × 7 columns</p>\n</div>"
     },
     "execution_count": 6,
     "metadata": {},
     "output_type": "execute_result"
    }
   ],
   "source": [
    "df.loc[df['result'].isin(['Present','Absent'])]"
   ],
   "metadata": {
    "collapsed": false,
    "pycharm": {
     "name": "#%%\n"
    }
   }
  },
  {
   "cell_type": "code",
   "execution_count": 6,
   "outputs": [],
   "source": [
    "s2count_df = df.groupby(['attr_name']).size().reset_index(name='counts').sort_values(['counts'], ascending=[False])"
   ],
   "metadata": {
    "collapsed": false,
    "pycharm": {
     "name": "#%%\n"
    }
   }
  },
  {
   "cell_type": "code",
   "execution_count": 8,
   "outputs": [
    {
     "data": {
      "text/plain": "                   attr_name  counts\n10                    Colour   12764\n5                 Appearance   12756\n20                     Sugar   12756\n6              Blood Group :   11652\n19                 Rh Type :   11649\n7           Blood Group: ABO    4661\n18                    Rh (D)    4661\n13                    HBs Ag    4259\n11       Dengue Ag NS1 (ICT)    3577\n4                   Anti-HCV    3157\n22                      VDRL    2138\n17                     Mucus    1502\n12              Fat Globules    1282\n23           Vegetable Cells    1282\n24                    Yeasts    1282\n9                      Color    1282\n0                    Albumin     676\n2             Anti-HBc Total     220\n15                     M.P.V     132\n14  IgG Against Dengue Virus     115\n1               Anti-HAV IgM     110\n16          Malaria Ag (ICT)      65\n8   Chikungunya Antibody IgM      22\n3                   Anti-HBe      16\n21            Toxoplasma IgM       6",
      "text/html": "<div>\n<style scoped>\n    .dataframe tbody tr th:only-of-type {\n        vertical-align: middle;\n    }\n\n    .dataframe tbody tr th {\n        vertical-align: top;\n    }\n\n    .dataframe thead th {\n        text-align: right;\n    }\n</style>\n<table border=\"1\" class=\"dataframe\">\n  <thead>\n    <tr style=\"text-align: right;\">\n      <th></th>\n      <th>attr_name</th>\n      <th>counts</th>\n    </tr>\n  </thead>\n  <tbody>\n    <tr>\n      <th>10</th>\n      <td>Colour</td>\n      <td>12764</td>\n    </tr>\n    <tr>\n      <th>5</th>\n      <td>Appearance</td>\n      <td>12756</td>\n    </tr>\n    <tr>\n      <th>20</th>\n      <td>Sugar</td>\n      <td>12756</td>\n    </tr>\n    <tr>\n      <th>6</th>\n      <td>Blood Group :</td>\n      <td>11652</td>\n    </tr>\n    <tr>\n      <th>19</th>\n      <td>Rh Type :</td>\n      <td>11649</td>\n    </tr>\n    <tr>\n      <th>7</th>\n      <td>Blood Group: ABO</td>\n      <td>4661</td>\n    </tr>\n    <tr>\n      <th>18</th>\n      <td>Rh (D)</td>\n      <td>4661</td>\n    </tr>\n    <tr>\n      <th>13</th>\n      <td>HBs Ag</td>\n      <td>4259</td>\n    </tr>\n    <tr>\n      <th>11</th>\n      <td>Dengue Ag NS1 (ICT)</td>\n      <td>3577</td>\n    </tr>\n    <tr>\n      <th>4</th>\n      <td>Anti-HCV</td>\n      <td>3157</td>\n    </tr>\n    <tr>\n      <th>22</th>\n      <td>VDRL</td>\n      <td>2138</td>\n    </tr>\n    <tr>\n      <th>17</th>\n      <td>Mucus</td>\n      <td>1502</td>\n    </tr>\n    <tr>\n      <th>12</th>\n      <td>Fat Globules</td>\n      <td>1282</td>\n    </tr>\n    <tr>\n      <th>23</th>\n      <td>Vegetable Cells</td>\n      <td>1282</td>\n    </tr>\n    <tr>\n      <th>24</th>\n      <td>Yeasts</td>\n      <td>1282</td>\n    </tr>\n    <tr>\n      <th>9</th>\n      <td>Color</td>\n      <td>1282</td>\n    </tr>\n    <tr>\n      <th>0</th>\n      <td>Albumin</td>\n      <td>676</td>\n    </tr>\n    <tr>\n      <th>2</th>\n      <td>Anti-HBc Total</td>\n      <td>220</td>\n    </tr>\n    <tr>\n      <th>15</th>\n      <td>M.P.V</td>\n      <td>132</td>\n    </tr>\n    <tr>\n      <th>14</th>\n      <td>IgG Against Dengue Virus</td>\n      <td>115</td>\n    </tr>\n    <tr>\n      <th>1</th>\n      <td>Anti-HAV IgM</td>\n      <td>110</td>\n    </tr>\n    <tr>\n      <th>16</th>\n      <td>Malaria Ag (ICT)</td>\n      <td>65</td>\n    </tr>\n    <tr>\n      <th>8</th>\n      <td>Chikungunya Antibody IgM</td>\n      <td>22</td>\n    </tr>\n    <tr>\n      <th>3</th>\n      <td>Anti-HBe</td>\n      <td>16</td>\n    </tr>\n    <tr>\n      <th>21</th>\n      <td>Toxoplasma IgM</td>\n      <td>6</td>\n    </tr>\n  </tbody>\n</table>\n</div>"
     },
     "execution_count": 8,
     "metadata": {},
     "output_type": "execute_result"
    }
   ],
   "source": [
    "s2count_df"
   ],
   "metadata": {
    "collapsed": false,
    "pycharm": {
     "name": "#%%\n"
    }
   }
  },
  {
   "cell_type": "code",
   "execution_count": 10,
   "outputs": [],
   "source": [
    "s2count_df.to_csv(\"attr_name.csv\")"
   ],
   "metadata": {
    "collapsed": false,
    "pycharm": {
     "name": "#%%\n"
    }
   }
  },
  {
   "cell_type": "code",
   "execution_count": 25,
   "outputs": [],
   "source": [
    "df.drop(df[(df['attr_name'] == 'Nil')].index, inplace=True)"
   ],
   "metadata": {
    "collapsed": false,
    "pycharm": {
     "name": "#%%\n"
    }
   }
  },
  {
   "cell_type": "code",
   "execution_count": 26,
   "outputs": [
    {
     "data": {
      "text/plain": "        test_id    attr_id attr_name result       test_group_name  \\\ncount     92022      91802     92022  92022                 45669   \nunique       34         85        25     95                     5   \ntop     5003345  3000017.0    Colour    Nil  PHYSICAL EXAMINATION   \nfreq      36322      12108     12764  14797                 25511   \n\n                                  test_name    data_type  \ncount                                 92022        92022  \nunique                                   34            1  \ntop     Complete Urine Analysis (Urine R/E)  Categorical  \nfreq                                  36322        92022  ",
      "text/html": "<div>\n<style scoped>\n    .dataframe tbody tr th:only-of-type {\n        vertical-align: middle;\n    }\n\n    .dataframe tbody tr th {\n        vertical-align: top;\n    }\n\n    .dataframe thead th {\n        text-align: right;\n    }\n</style>\n<table border=\"1\" class=\"dataframe\">\n  <thead>\n    <tr style=\"text-align: right;\">\n      <th></th>\n      <th>test_id</th>\n      <th>attr_id</th>\n      <th>attr_name</th>\n      <th>result</th>\n      <th>test_group_name</th>\n      <th>test_name</th>\n      <th>data_type</th>\n    </tr>\n  </thead>\n  <tbody>\n    <tr>\n      <th>count</th>\n      <td>92022</td>\n      <td>91802</td>\n      <td>92022</td>\n      <td>92022</td>\n      <td>45669</td>\n      <td>92022</td>\n      <td>92022</td>\n    </tr>\n    <tr>\n      <th>unique</th>\n      <td>34</td>\n      <td>85</td>\n      <td>25</td>\n      <td>95</td>\n      <td>5</td>\n      <td>34</td>\n      <td>1</td>\n    </tr>\n    <tr>\n      <th>top</th>\n      <td>5003345</td>\n      <td>3000017.0</td>\n      <td>Colour</td>\n      <td>Nil</td>\n      <td>PHYSICAL EXAMINATION</td>\n      <td>Complete Urine Analysis (Urine R/E)</td>\n      <td>Categorical</td>\n    </tr>\n    <tr>\n      <th>freq</th>\n      <td>36322</td>\n      <td>12108</td>\n      <td>12764</td>\n      <td>14797</td>\n      <td>25511</td>\n      <td>36322</td>\n      <td>92022</td>\n    </tr>\n  </tbody>\n</table>\n</div>"
     },
     "execution_count": 26,
     "metadata": {},
     "output_type": "execute_result"
    }
   ],
   "source": [
    "df.describe()"
   ],
   "metadata": {
    "collapsed": false,
    "pycharm": {
     "name": "#%%\n"
    }
   }
  },
  {
   "cell_type": "code",
   "execution_count": 7,
   "outputs": [
    {
     "data": {
      "text/plain": "       test_id    attr_id        attr_name      result      test_group_name  \\\n0       100441   102181.0  LDL Cholesterol          **  Lipid Profile Serum   \n1       100441   102181.0  LDL Cholesterol          **  Lipid Profile Serum   \n2       100441   102181.0  LDL Cholesterol           -  Lipid Profile Serum   \n3       100441   102181.0  LDL Cholesterol          **  Lipid Profile Serum   \n4       100441   102181.0  LDL Cholesterol         ---  Lipid Profile Serum   \n...        ...        ...              ...         ...                  ...   \n521796  100401   101458.0     Urobilinogen      Absent                  NaN   \n521797  101520   101853.0              AFB   Not found          Z. N. Stain   \n521798  100450   100736.0      Anti-TB IgM  320.3 U/mL                  NaN   \n521799  100105  3002953.0              IgG     < 100.0                  NaN   \n521800  100803   100636.0   TB Ab Combined    Negative                  NaN   \n\n                                test_name    data_type  \n0                 Lipid Profile Serum (F)  Categorical  \n1                 Lipid Profile Serum (F)  Categorical  \n2                 Lipid Profile Serum (F)  Categorical  \n3                 Lipid Profile Serum (F)  Categorical  \n4                 Lipid Profile Serum (F)  Categorical  \n...                                   ...          ...  \n521796               Urobilinogen - Urine  Categorical  \n521797          Pericardial Fluid for AFB  Categorical  \n521798                        Anti-TB IgM  Categorical  \n521799  Anti Measles Virus Ab (IgG & IgM)  Categorical  \n521800     TB Ab Combined (IgG+IgM) (ICT)  Categorical  \n\n[521801 rows x 7 columns]",
      "text/html": "<div>\n<style scoped>\n    .dataframe tbody tr th:only-of-type {\n        vertical-align: middle;\n    }\n\n    .dataframe tbody tr th {\n        vertical-align: top;\n    }\n\n    .dataframe thead th {\n        text-align: right;\n    }\n</style>\n<table border=\"1\" class=\"dataframe\">\n  <thead>\n    <tr style=\"text-align: right;\">\n      <th></th>\n      <th>test_id</th>\n      <th>attr_id</th>\n      <th>attr_name</th>\n      <th>result</th>\n      <th>test_group_name</th>\n      <th>test_name</th>\n      <th>data_type</th>\n    </tr>\n  </thead>\n  <tbody>\n    <tr>\n      <th>0</th>\n      <td>100441</td>\n      <td>102181.0</td>\n      <td>LDL Cholesterol</td>\n      <td>**</td>\n      <td>Lipid Profile Serum</td>\n      <td>Lipid Profile Serum (F)</td>\n      <td>Categorical</td>\n    </tr>\n    <tr>\n      <th>1</th>\n      <td>100441</td>\n      <td>102181.0</td>\n      <td>LDL Cholesterol</td>\n      <td>**</td>\n      <td>Lipid Profile Serum</td>\n      <td>Lipid Profile Serum (F)</td>\n      <td>Categorical</td>\n    </tr>\n    <tr>\n      <th>2</th>\n      <td>100441</td>\n      <td>102181.0</td>\n      <td>LDL Cholesterol</td>\n      <td>-</td>\n      <td>Lipid Profile Serum</td>\n      <td>Lipid Profile Serum (F)</td>\n      <td>Categorical</td>\n    </tr>\n    <tr>\n      <th>3</th>\n      <td>100441</td>\n      <td>102181.0</td>\n      <td>LDL Cholesterol</td>\n      <td>**</td>\n      <td>Lipid Profile Serum</td>\n      <td>Lipid Profile Serum (F)</td>\n      <td>Categorical</td>\n    </tr>\n    <tr>\n      <th>4</th>\n      <td>100441</td>\n      <td>102181.0</td>\n      <td>LDL Cholesterol</td>\n      <td>---</td>\n      <td>Lipid Profile Serum</td>\n      <td>Lipid Profile Serum (F)</td>\n      <td>Categorical</td>\n    </tr>\n    <tr>\n      <th>...</th>\n      <td>...</td>\n      <td>...</td>\n      <td>...</td>\n      <td>...</td>\n      <td>...</td>\n      <td>...</td>\n      <td>...</td>\n    </tr>\n    <tr>\n      <th>521796</th>\n      <td>100401</td>\n      <td>101458.0</td>\n      <td>Urobilinogen</td>\n      <td>Absent</td>\n      <td>NaN</td>\n      <td>Urobilinogen - Urine</td>\n      <td>Categorical</td>\n    </tr>\n    <tr>\n      <th>521797</th>\n      <td>101520</td>\n      <td>101853.0</td>\n      <td>AFB</td>\n      <td>Not found</td>\n      <td>Z. N. Stain</td>\n      <td>Pericardial Fluid for AFB</td>\n      <td>Categorical</td>\n    </tr>\n    <tr>\n      <th>521798</th>\n      <td>100450</td>\n      <td>100736.0</td>\n      <td>Anti-TB IgM</td>\n      <td>320.3 U/mL</td>\n      <td>NaN</td>\n      <td>Anti-TB IgM</td>\n      <td>Categorical</td>\n    </tr>\n    <tr>\n      <th>521799</th>\n      <td>100105</td>\n      <td>3002953.0</td>\n      <td>IgG</td>\n      <td>&lt; 100.0</td>\n      <td>NaN</td>\n      <td>Anti Measles Virus Ab (IgG &amp; IgM)</td>\n      <td>Categorical</td>\n    </tr>\n    <tr>\n      <th>521800</th>\n      <td>100803</td>\n      <td>100636.0</td>\n      <td>TB Ab Combined</td>\n      <td>Negative</td>\n      <td>NaN</td>\n      <td>TB Ab Combined (IgG+IgM) (ICT)</td>\n      <td>Categorical</td>\n    </tr>\n  </tbody>\n</table>\n<p>521801 rows × 7 columns</p>\n</div>"
     },
     "execution_count": 7,
     "metadata": {},
     "output_type": "execute_result"
    }
   ],
   "source": [
    "df"
   ],
   "metadata": {
    "collapsed": false,
    "pycharm": {
     "name": "#%%\n"
    }
   }
  },
  {
   "cell_type": "code",
   "execution_count": 9,
   "outputs": [],
   "source": [
    "df = df[['attr_id','result']]"
   ],
   "metadata": {
    "collapsed": false,
    "pycharm": {
     "name": "#%%\n"
    }
   }
  },
  {
   "cell_type": "code",
   "execution_count": 10,
   "outputs": [],
   "source": [
    "df.columns  = ['measurement_concept_id','value_source_value']"
   ],
   "metadata": {
    "collapsed": false,
    "pycharm": {
     "name": "#%%\n"
    }
   }
  },
  {
   "cell_type": "code",
   "execution_count": 11,
   "outputs": [
    {
     "data": {
      "text/plain": "       measurement_concept_id value_source_value\n0                    102181.0                 **\n1                    102181.0                 **\n2                    102181.0                  -\n3                    102181.0                 **\n4                    102181.0                ---\n...                       ...                ...\n521796               101458.0             Absent\n521797               101853.0          Not found\n521798               100736.0         320.3 U/mL\n521799              3002953.0            < 100.0\n521800               100636.0           Negative\n\n[521801 rows x 2 columns]",
      "text/html": "<div>\n<style scoped>\n    .dataframe tbody tr th:only-of-type {\n        vertical-align: middle;\n    }\n\n    .dataframe tbody tr th {\n        vertical-align: top;\n    }\n\n    .dataframe thead th {\n        text-align: right;\n    }\n</style>\n<table border=\"1\" class=\"dataframe\">\n  <thead>\n    <tr style=\"text-align: right;\">\n      <th></th>\n      <th>measurement_concept_id</th>\n      <th>value_source_value</th>\n    </tr>\n  </thead>\n  <tbody>\n    <tr>\n      <th>0</th>\n      <td>102181.0</td>\n      <td>**</td>\n    </tr>\n    <tr>\n      <th>1</th>\n      <td>102181.0</td>\n      <td>**</td>\n    </tr>\n    <tr>\n      <th>2</th>\n      <td>102181.0</td>\n      <td>-</td>\n    </tr>\n    <tr>\n      <th>3</th>\n      <td>102181.0</td>\n      <td>**</td>\n    </tr>\n    <tr>\n      <th>4</th>\n      <td>102181.0</td>\n      <td>---</td>\n    </tr>\n    <tr>\n      <th>...</th>\n      <td>...</td>\n      <td>...</td>\n    </tr>\n    <tr>\n      <th>521796</th>\n      <td>101458.0</td>\n      <td>Absent</td>\n    </tr>\n    <tr>\n      <th>521797</th>\n      <td>101853.0</td>\n      <td>Not found</td>\n    </tr>\n    <tr>\n      <th>521798</th>\n      <td>100736.0</td>\n      <td>320.3 U/mL</td>\n    </tr>\n    <tr>\n      <th>521799</th>\n      <td>3002953.0</td>\n      <td>&lt; 100.0</td>\n    </tr>\n    <tr>\n      <th>521800</th>\n      <td>100636.0</td>\n      <td>Negative</td>\n    </tr>\n  </tbody>\n</table>\n<p>521801 rows × 2 columns</p>\n</div>"
     },
     "execution_count": 11,
     "metadata": {},
     "output_type": "execute_result"
    }
   ],
   "source": [
    "df"
   ],
   "metadata": {
    "collapsed": false,
    "pycharm": {
     "name": "#%%\n"
    }
   }
  },
  {
   "cell_type": "code",
   "execution_count": 11,
   "outputs": [],
   "source": [
    "count = df.groupby(['value_source_value']).size()"
   ],
   "metadata": {
    "collapsed": false,
    "pycharm": {
     "name": "#%%\n"
    }
   }
  },
  {
   "cell_type": "code",
   "execution_count": 10,
   "outputs": [
    {
     "data": {
      "text/plain": "['----',\n '----',\n '---',\n '----',\n '----',\n '----',\n '----',\n '----',\n '----',\n '----',\n '----',\n '----',\n '----',\n '----',\n '---',\n '----',\n '----',\n '----',\n '----',\n '---',\n '----',\n '>>>>',\n '--',\n '>>>>',\n '-',\n '>>>>',\n '>>>>',\n '--',\n '--',\n '>>>>',\n '>>>>',\n '>>>>',\n '>>>>',\n '--',\n '>>>>',\n '>>>>',\n '>>>>',\n '>>>>',\n '--',\n '>>>>',\n '>>>>',\n '>>>>',\n '>>>>',\n '>>>>',\n '>>>>',\n '>>>>',\n '>>>>',\n '>>>>',\n '>>>>',\n '>>>>',\n '-----',\n '>>>>',\n '>>>>',\n '>>>>',\n '>>>>',\n '>>>>',\n '>>>>',\n '---',\n '---',\n '>>>>',\n '>>>>',\n '>>>>',\n '>>>>',\n '>>>>',\n '>>>>',\n '--',\n '----',\n '----',\n '----',\n '>>>>',\n '----',\n '-----',\n '>>>>',\n '>>>>',\n '---',\n '>>>>',\n '----',\n '>>>>',\n '--',\n '>>>>',\n '>>>>',\n '----',\n '----',\n '>>>>',\n '----',\n '>>>>',\n '----',\n '>>>>',\n '----',\n '>>>>',\n '>>>>',\n '----',\n '>>>>',\n '>>>>',\n '>>>>',\n '---',\n '----',\n '>>>>',\n '>>>>',\n '>>>>',\n '--',\n '--',\n '>>>>',\n '----',\n '--',\n '>>>>',\n '--',\n '----',\n '>>>>',\n '----',\n '>>>>',\n '>>>>',\n '---',\n '>>>>',\n '------',\n '>>>>',\n '>>>>',\n '>>>>',\n '>>>>',\n '>>>>',\n '>>>>',\n '>>>>',\n '>>>>',\n '>>>>',\n '----',\n '----',\n '----',\n '----',\n '----',\n '----',\n '>>>>',\n '----',\n 'Clear',\n 'Straw',\n 'Nil',\n 'Nil',\n 'Clear',\n 'Straw',\n 'Nil',\n 'Nil',\n 'Straw',\n 'Nil',\n 'Nil',\n 'Clear',\n 'Clear',\n 'Straw',\n 'Nil',\n 'Nil',\n 'Clear',\n 'Straw',\n 'Nil',\n 'Nil',\n 'Clear',\n 'Straw',\n 'Nil',\n 'Nil',\n 'Clear',\n 'Straw',\n 'Nil',\n 'Trace',\n 'Clear',\n 'Straw',\n 'Nil',\n 'Nil',\n 'Clear',\n 'Straw',\n 'Nil',\n 'Nil',\n 'Clear',\n 'Straw',\n 'Nil',\n '(+)',\n 'Clear',\n 'Straw',\n 'Nil',\n 'Nil',\n 'Clear',\n 'Straw',\n 'Nil',\n '(++)',\n 'Clear',\n 'Straw',\n 'Nil',\n 'Nil',\n 'Clear',\n 'Straw',\n 'Nil',\n 'Nil',\n 'Clear',\n 'Straw',\n 'Nil',\n 'Trace',\n 'Clear',\n 'Straw',\n 'Nil',\n 'Nil',\n 'Clear',\n 'Straw',\n 'Nil',\n 'Nil',\n 'Clear',\n 'Straw',\n 'Nil',\n 'Nil',\n 'Clear',\n 'Straw',\n '(++)',\n 'Trace',\n 'Clear',\n 'Straw',\n 'Nil',\n 'Nil',\n 'Clear',\n 'Straw',\n 'Nil',\n 'Nil',\n 'Clear',\n 'Straw',\n 'Nil',\n 'Nil',\n 'Clear',\n 'Straw',\n 'Nil',\n 'Nil',\n 'Clear',\n 'Straw',\n 'Nil',\n 'Nil',\n 'Clear',\n 'Straw',\n 'Nil',\n 'Nil',\n 'Clear',\n 'Straw',\n 'Nil',\n 'Nil',\n 'Hazy',\n 'Straw',\n 'Trace',\n '(+)',\n 'Straw',\n 'Clear',\n 'Nil',\n 'Nil',\n 'Clear',\n 'Straw',\n 'Nil',\n 'Nil',\n 'Clear',\n 'Straw',\n 'Trace',\n 'Nil',\n 'Clear',\n 'Straw',\n 'Nil',\n 'Nil',\n 'Clear',\n 'Straw',\n 'Nil',\n 'Nil',\n 'Straw',\n 'Clear',\n 'Nil',\n 'Nil',\n 'Clear',\n 'Straw',\n 'Nil',\n 'Nil',\n 'Clear',\n 'Straw',\n '(+++)',\n 'Nil',\n 'Clear',\n 'Straw',\n 'Nil',\n 'Nil',\n 'Clear',\n 'Straw',\n '(++)',\n 'Nil',\n 'Clear',\n 'Straw',\n 'Nil',\n 'Nil',\n 'Clear',\n 'Straw',\n 'Nil',\n 'Nil',\n 'Clear',\n 'Straw',\n 'Nil',\n 'Nil',\n 'Nil',\n 'Nil',\n 'Clear',\n 'Straw',\n 'Clear',\n 'Straw',\n '(++)',\n 'Nil',\n 'Clear',\n 'Straw',\n 'Nil',\n 'Nil',\n 'Clear',\n 'Straw',\n 'Nil',\n 'Nil',\n 'Clear',\n 'Straw',\n 'Nil',\n 'Nil',\n 'Clear',\n 'Yellow',\n 'Nil',\n 'Nil',\n 'Clear',\n 'Straw',\n 'Nil',\n 'Nil',\n 'Clear',\n 'Straw',\n 'Nil',\n 'Nil',\n 'Clear',\n 'Straw',\n 'Nil',\n 'Nil',\n 'Clear',\n 'Straw',\n 'Nil',\n 'Nil',\n 'Clear',\n 'Straw',\n 'Nil',\n 'Nil',\n 'Clear',\n 'Straw',\n 'Nil',\n 'Nil',\n 'Clear',\n 'Straw',\n 'Nil',\n 'Nil',\n 'Clear',\n 'Straw',\n 'Nil',\n 'Nil',\n 'Clear',\n 'Straw',\n '(++)',\n '(++)',\n 'Clear',\n 'Straw',\n 'Nil',\n 'Nil',\n 'Clear',\n 'Straw',\n 'Nil',\n 'Nil',\n 'Clear',\n 'Straw',\n 'Nil',\n '(+)',\n 'Clear',\n 'Straw',\n 'Nil',\n 'Nil',\n 'Clear',\n 'Straw',\n 'Nil',\n 'Trace',\n 'Clear',\n 'Straw',\n 'Nil',\n 'Nil',\n 'Clear',\n 'Straw',\n 'Nil',\n 'Trace',\n 'Clear',\n 'Straw',\n 'Nil',\n 'Nil',\n 'Clear',\n 'Straw',\n 'Nil',\n 'Nil',\n 'Clear',\n 'Straw',\n 'Nil',\n 'Nil',\n 'Clear',\n 'Straw',\n 'Nil',\n 'Nil',\n 'Hazy',\n 'Reddish',\n 'Nil',\n 'Trace',\n 'Hazy',\n 'Straw',\n 'Nil',\n 'Nil',\n 'Clear',\n 'Straw',\n 'Nil',\n 'Nil',\n 'Clear',\n 'Straw',\n 'Nil',\n 'Nil',\n 'Clear',\n 'Straw',\n 'Nil',\n 'Nil',\n 'Clear',\n 'Straw',\n 'Nil',\n 'Nil',\n 'Clear',\n 'Straw',\n 'Nil',\n 'Nil',\n 'Clear',\n 'Straw',\n 'Nil',\n 'Nil',\n 'Clear',\n 'Straw',\n 'Nil',\n 'Nil',\n 'Clear',\n 'Straw',\n 'Nil',\n 'Nil',\n 'Straw',\n 'Clear',\n 'Nil',\n 'Nil',\n 'Clear',\n 'Straw',\n 'Nil',\n 'Nil',\n 'Clear',\n 'Straw',\n 'Nil',\n 'Nil',\n 'Clear',\n 'Straw',\n 'Nil',\n 'Nil',\n 'Clear',\n 'Straw',\n 'Nil',\n 'Nil',\n 'Clear',\n 'Straw',\n 'Nil',\n '(+)',\n 'Clear',\n 'Straw',\n 'Nil',\n 'Nil',\n 'Clear',\n 'Straw',\n 'Nil',\n 'Nil',\n 'Clear',\n 'Straw',\n 'Nil',\n 'Nil',\n 'Clear',\n 'Straw',\n 'Nil',\n 'Nil',\n 'Clear',\n 'Straw',\n 'Nil',\n 'Nil',\n 'Clear',\n 'Straw',\n 'Nil',\n 'Nil',\n 'Clear',\n 'Straw',\n 'Nil',\n '(++)',\n 'Clear',\n 'Straw',\n 'Nil',\n 'Nil',\n 'Clear',\n 'Straw',\n 'Nil',\n 'Nil',\n 'Clear',\n 'Straw',\n 'Nil',\n '(+)',\n 'Clear',\n 'Straw',\n 'Nil',\n 'Nil',\n 'Clear',\n 'Straw',\n 'Nil',\n 'Nil',\n 'Clear',\n 'Straw',\n 'Nil',\n 'Nil',\n 'Clear',\n 'Straw',\n 'Nil',\n 'Nil',\n 'Clear',\n 'Straw',\n 'Nil',\n 'Nil',\n 'Clear',\n 'Straw',\n 'Nil',\n 'Nil',\n 'Clear',\n 'Straw',\n 'Nil',\n '(+)',\n 'Nil',\n 'Nil',\n 'Clear',\n 'Straw',\n 'Clear',\n 'Straw',\n 'Nil',\n 'Nil',\n 'Clear',\n 'Straw',\n '(+)',\n 'Nil',\n 'Clear',\n 'Straw',\n 'Nil',\n 'Nil',\n 'Clear',\n 'Straw',\n 'Nil',\n 'Nil',\n 'Clear',\n 'Straw',\n 'Nil',\n 'Nil',\n 'Clear',\n 'Straw',\n 'Nil',\n 'Nil',\n 'Clear',\n 'Straw',\n 'Nil',\n 'Nil',\n 'Nil',\n 'Nil',\n 'Clear',\n 'Straw',\n 'Clear',\n 'Straw',\n '(+)',\n '(+)',\n 'Clear',\n 'Straw',\n 'Nil',\n 'Nil',\n 'Clear',\n 'Straw',\n 'Nil',\n 'Nil',\n 'Clear',\n 'Straw',\n 'Nil',\n 'Nil',\n 'Clear',\n 'Straw',\n 'Nil',\n 'Nil',\n 'Clear',\n 'Straw',\n 'Nil',\n 'Nil',\n 'Clear',\n 'Straw',\n '(+)',\n 'Nil',\n 'Clear',\n 'Straw',\n 'Nil',\n 'Nil',\n 'Clear',\n 'Yellow',\n 'Nil',\n 'Nil',\n 'Clear',\n 'Straw',\n 'Nil',\n 'Nil',\n 'Clear',\n 'Straw',\n 'Nil',\n 'Nil',\n 'Clear',\n 'Straw',\n 'Nil',\n 'Nil',\n 'Clear',\n 'Straw',\n 'Nil',\n 'Nil',\n 'Clear',\n 'Straw',\n 'Nil',\n 'Nil',\n 'Clear',\n 'Straw',\n 'Nil',\n 'Nil',\n 'Clear',\n 'Straw',\n 'Nil',\n 'Nil',\n 'Nil',\n 'Nil',\n 'Clear',\n 'Straw',\n 'Clear',\n 'Straw',\n 'Nil',\n 'Nil',\n 'Clear',\n 'Straw',\n 'Nil',\n 'Nil',\n 'Clear',\n 'Straw',\n 'Nil',\n 'Nil',\n 'Clear',\n 'Straw',\n 'Nil',\n '(+)',\n 'Clear',\n 'Straw',\n 'Nil',\n 'Nil',\n 'Straw',\n 'Clear',\n 'Nil',\n 'Trace',\n 'Nil',\n 'Clear',\n 'Straw',\n 'Nil',\n 'Clear',\n 'Straw',\n 'Nil',\n '(+)',\n 'Clear',\n 'Straw',\n 'Nil',\n 'Trace',\n 'Clear',\n 'Straw',\n 'Nil',\n 'Nil',\n 'Clear',\n 'Straw',\n 'Nil',\n '(++)',\n 'Clear',\n 'Straw',\n '(++)',\n '(+++)',\n 'Clear',\n 'Straw',\n 'Nil',\n 'Nil',\n 'Clear',\n 'Straw',\n 'Nil',\n 'Nil',\n 'Clear',\n 'Straw',\n 'Nil',\n 'Nil',\n 'Clear',\n 'Straw',\n 'Nil',\n 'Nil',\n 'Clear',\n 'Straw',\n 'Nil',\n 'Nil',\n 'Clear',\n 'Straw',\n 'Nil',\n 'Nil',\n 'Clear',\n 'Straw',\n 'Nil',\n 'Nil',\n 'Clear',\n 'Straw',\n 'Nil',\n 'Trace',\n 'Clear',\n 'Straw',\n 'Nil',\n 'Nil',\n 'Clear',\n 'Straw',\n '(+)',\n 'Nil',\n 'Clear',\n 'Straw',\n 'Nil',\n 'Nil',\n 'Clear',\n 'Straw',\n 'Nil',\n 'Nil',\n 'Clear',\n 'Straw',\n '(+++)',\n 'Nil',\n 'Clear',\n 'Straw',\n 'Nil',\n 'Trace',\n 'Clear',\n 'Straw',\n 'Nil',\n 'Nil',\n 'Straw',\n 'Clear',\n '(++)',\n 'Nil',\n 'Clear',\n 'Straw',\n 'Nil',\n 'Nil',\n 'Clear',\n 'Straw',\n 'Trace',\n '(++)',\n 'Clear',\n 'Straw',\n 'Nil',\n 'Nil',\n 'Clear',\n 'Straw',\n 'Nil',\n 'Nil',\n 'Clear',\n 'Straw',\n 'Nil',\n 'Trace',\n 'Clear',\n 'Straw',\n 'Nil',\n '(+)',\n 'Clear',\n 'Straw',\n 'Nil',\n 'Nil',\n 'Clear',\n 'Straw',\n 'Nil',\n 'Nil',\n 'Clear',\n 'Straw',\n 'Nil',\n 'Nil',\n 'Clear',\n 'Straw',\n 'Nil',\n 'Nil',\n 'Clear',\n 'Straw',\n 'Nil',\n 'Nil',\n 'Hazy',\n 'Straw',\n '(+)',\n '(+++)',\n 'Clear',\n 'Straw',\n '(+)',\n 'Trace',\n 'Clear',\n 'Straw',\n 'Nil',\n 'Nil',\n 'Hazy',\n 'Straw',\n 'Nil',\n 'Nil',\n 'Clear',\n 'Straw',\n 'Nil',\n 'Nil',\n 'Clear',\n 'Straw',\n '(++)',\n 'Nil',\n 'Clear',\n 'Straw',\n 'Nil',\n 'Trace',\n 'Clear',\n 'Straw',\n 'Nil',\n 'Nil',\n 'Clear',\n 'Straw',\n 'Nil',\n 'Nil',\n 'Clear',\n 'Straw',\n 'Nil',\n '(+)',\n 'Clear',\n 'Straw',\n 'Nil',\n 'Nil',\n 'Hazy',\n 'Straw',\n 'Nil',\n 'Nil',\n 'Nil',\n 'Nil',\n 'Clear',\n 'Straw',\n 'Clear',\n 'Straw',\n 'Nil',\n 'Nil',\n 'Clear',\n 'Straw',\n 'Nil',\n 'Nil',\n 'Clear',\n 'Straw',\n 'Nil',\n 'Nil',\n 'Clear',\n 'Straw',\n 'Nil',\n 'Nil',\n 'Clear',\n 'Straw',\n 'Nil',\n 'Nil',\n 'Clear',\n 'Straw',\n 'Nil',\n 'Nil',\n 'Clear',\n 'Straw',\n '(++)',\n '(+)',\n 'Clear',\n 'Straw',\n 'Nil',\n '(++)',\n 'Clear',\n 'Straw',\n 'Nil',\n 'Nil',\n 'Clear',\n 'Straw',\n 'Nil',\n 'Nil',\n 'Clear',\n 'Straw',\n 'Nil',\n 'Nil',\n 'Clear',\n 'Straw',\n 'Nil',\n 'Nil',\n 'Clear',\n 'Straw',\n 'Nil',\n '(+)',\n 'Clear',\n 'Straw',\n 'Nil',\n 'Nil',\n 'Clear',\n 'Straw',\n 'Nil',\n 'Nil',\n 'Clear',\n 'Straw',\n 'Nil',\n 'Nil',\n 'Hazy',\n 'Straw',\n '(+)',\n '(++)',\n 'Clear',\n 'Straw',\n 'Nil',\n 'Nil',\n 'Clear',\n 'Straw',\n '(++)',\n 'Nil',\n 'Clear',\n 'Straw',\n 'Nil',\n 'Nil',\n 'Clear',\n 'Straw',\n 'Nil',\n 'Trace',\n 'Clear',\n 'Straw',\n '(+)',\n 'Nil',\n 'Clear',\n 'Straw',\n 'Nil',\n 'Nil',\n 'Clear',\n 'Straw',\n 'Nil',\n 'Nil',\n 'Clear',\n 'Straw',\n 'Nil',\n 'Nil',\n 'Clear',\n 'Yellow',\n 'Nil',\n 'Trace',\n 'Clear',\n 'Straw',\n '(++)',\n '(+)',\n 'Clear',\n 'Straw',\n 'Nil',\n 'Nil',\n 'Clear',\n 'Straw',\n 'Nil',\n 'Nil',\n 'Clear',\n 'Straw',\n 'Nil',\n '(+)',\n 'Clear',\n 'Straw',\n 'Nil',\n 'Trace',\n 'Clear',\n 'Straw',\n 'Nil',\n 'Nil',\n 'Hazy',\n 'Straw',\n 'Nil',\n 'Nil',\n 'Clear',\n 'Straw',\n 'Nil',\n 'Nil',\n 'Clear',\n 'Straw',\n 'Nil',\n 'Nil',\n 'Hazy',\n 'Straw',\n 'Nil',\n 'Nil',\n 'Clear',\n 'Straw',\n 'Nil',\n 'Nil',\n 'Clear',\n 'Straw',\n 'Nil',\n 'Nil',\n 'Clear',\n 'Straw',\n 'Nil',\n 'Nil',\n 'Clear',\n 'Straw',\n 'Nil',\n 'Nil',\n ...]"
     },
     "execution_count": 10,
     "metadata": {},
     "output_type": "execute_result"
    }
   ],
   "source": [
    "df['value_source_value'].tolist()"
   ],
   "metadata": {
    "collapsed": false,
    "pycharm": {
     "name": "#%%\n"
    }
   }
  },
  {
   "cell_type": "code",
   "execution_count": 11,
   "outputs": [
    {
     "data": {
      "text/plain": "value_source_value\n \"B\"            1\n \"O\"            2\n Positive       1\n\"A              1\n\"A\"          3682\n             ... \nYELLOW         11\nYellow        206\nYellowish     190\np               1\npositive        5\nLength: 95, dtype: int64"
     },
     "execution_count": 11,
     "metadata": {},
     "output_type": "execute_result"
    }
   ],
   "source": [
    "count"
   ],
   "metadata": {
    "collapsed": false,
    "pycharm": {
     "name": "#%%\n"
    }
   }
  },
  {
   "cell_type": "code",
   "execution_count": 34,
   "outputs": [
    {
     "data": {
      "text/plain": "<Figure size 500x1500 with 1 Axes>",
      "image/png": "[encoded data removed]"
     },
     "metadata": {},
     "output_type": "display_data"
    }
   ],
   "source": [
    "plot = count.plot.barh(y='mass', figsize=(5, 15))"
   ],
   "metadata": {
    "collapsed": false,
    "pycharm": {
     "name": "#%%\n"
    }
   }
  },
  {
   "cell_type": "code",
   "execution_count": 35,
   "metadata": {
    "scrolled": true
   },
   "outputs": [
    {
     "name": "stderr",
     "output_type": "stream",
     "text": [
      "C:\\Users\\ASUS\\AppData\\Local\\Temp\\ipykernel_12688\\1788196903.py:14: FutureWarning: The default value of regex will change from True to False in a future version. In addition, single character regular expressions will *not* be treated as literal strings when regex=True.\n",
      "  df['value_source_value'] = df['value_source_value'].str.replace('(',\"\")\n",
      "C:\\Users\\ASUS\\AppData\\Local\\Temp\\ipykernel_12688\\1788196903.py:15: FutureWarning: The default value of regex will change from True to False in a future version. In addition, single character regular expressions will *not* be treated as literal strings when regex=True.\n",
      "  df['value_source_value'] = df['value_source_value'].str.replace(')',\"\")\n",
      "C:\\Users\\ASUS\\AppData\\Local\\Temp\\ipykernel_12688\\1788196903.py:19: FutureWarning: The default value of regex will change from True to False in a future version.\n",
      "  df['value_source_value'] = df['value_source_value'].str.replace(r'(\\d)(\\+)', lambda x: x.groups()[1]*int(x.groups()[0]))\n",
      "C:\\Users\\ASUS\\AppData\\Local\\Temp\\ipykernel_12688\\1788196903.py:20: FutureWarning: The default value of regex will change from True to False in a future version.\n",
      "  df['value_source_value'] = df['value_source_value'].str.replace(r'(\\d+)(\\s+)(\\++)', lambda x: x.groups()[2])\n",
      "C:\\Users\\ASUS\\AppData\\Local\\Temp\\ipykernel_12688\\1788196903.py:21: FutureWarning: The default value of regex will change from True to False in a future version.\n",
      "  df['value_source_value'] = df['value_source_value'].str.replace(r'(\\++)(\\d+)(\\s+)', lambda x: x.groups()[0])\n",
      "C:\\Users\\ASUS\\AppData\\Local\\Temp\\ipykernel_12688\\1788196903.py:24: FutureWarning: The default value of regex will change from True to False in a future version. In addition, single character regular expressions will *not* be treated as literal strings when regex=True.\n",
      "  _rh_pos_df = df[df['measurement_concept_id'] == 'BL7002']['value_source_value'].str.replace('+','rh+')\n"
     ]
    }
   ],
   "source": [
    "# 1) Data preparation\n",
    "from collections import defaultdict\n",
    "import re\n",
    "\n",
    "def _general_preprocessing(df):\n",
    "    \n",
    "    # window user_encoding\n",
    "    df['value_source_value'] = df['value_source_value'].str.encode('utf8', errors = 'strict').str.decode('utf8', errors = 'strict')\n",
    "    \n",
    "    # lower, strip space, \\d\\+ restore\n",
    "    df['value_source_value'] = df['value_source_value'].str.lower()\n",
    "    df['value_source_value'] = df['value_source_value'].str.strip()\n",
    "    df['value_source_value'] = df['value_source_value'].str.replace('\"',\"\")\n",
    "    df['value_source_value'] = df['value_source_value'].str.replace('(',\"\")\n",
    "    df['value_source_value'] = df['value_source_value'].str.replace(')',\"\")\n",
    "\n",
    "\n",
    "\n",
    "    df['value_source_value'] = df['value_source_value'].str.replace(r'(\\d)(\\+)', lambda x: x.groups()[1]*int(x.groups()[0]))\n",
    "    df['value_source_value'] = df['value_source_value'].str.replace(r'(\\d+)(\\s+)(\\++)', lambda x: x.groups()[2])\n",
    "    df['value_source_value'] = df['value_source_value'].str.replace(r'(\\++)(\\d+)(\\s+)', lambda x: x.groups()[0])\n",
    "    \n",
    "    #replace + to Rh+ only for 'HJ1UHH1'(Rh type laboratory code) \n",
    "    _rh_pos_df = df[df['measurement_concept_id'] == 'BL7002']['value_source_value'].str.replace('+','rh+')\n",
    "    _rh_neg_df = df[df['measurement_concept_id'] == 'BL7002']['value_source_value'].str.replace('-','rh-')\n",
    "    df.loc[df.measurement_concept_id == 'HJ1UHH1', 'value_source_value'] = _rh_pos_df \n",
    "    df.loc[df.measurement_concept_id == 'HJ1UHH1', 'value_source_value'] = _rh_neg_df\n",
    "    return df\n",
    "\n",
    "df_with_freq = df.groupby(df.columns.tolist()).size().reset_index(name = 'Freq')\n",
    "df_with_freq_sort = df_with_freq.sort_values(by = 'Freq',ascending = False)\n",
    "df_cleaned = _general_preprocessing(df_with_freq_sort)\n",
    "df_cleaned_regrouped = df_cleaned.groupby(['measurement_concept_id','value_source_value'])\n",
    "df_cleaned_sort = df_cleaned_regrouped.sum().reset_index().sort_values(by = 'Freq', ascending = False)\n",
    "\n",
    "dist_dicts = defaultdict(dict)\n",
    "\n",
    "for cid, value, freq in df_cleaned_sort.values:\n",
    "    dist_dicts[cid][value] = freq\n",
    "    \n",
    "dist_dicts = dict(dist_dicts)\n"
   ]
  },
  {
   "cell_type": "code",
   "execution_count": 36,
   "metadata": {},
   "outputs": [
    {
     "name": "stdout",
     "output_type": "stream",
     "text": [
      "Rules_A: ['i', 's', 'r']\n",
      "Rules_B: ['nil', 'few']\n",
      "Rules_C: ['present', 'absent']\n"
     ]
    }
   ],
   "source": [
    "# 2) Laboratory tests Categorization\n",
    "import re\n",
    "import collections, re\n",
    "\n",
    "\n",
    "def get_majors_and_minors(dist_dict, acc_thr=99.5, diff_thr=100, n_thr=9):\n",
    "\n",
    "    if len(dist_dict) < 5:\n",
    "        return dist_dict\n",
    "\n",
    "    total = sum(dist_dict.values())\n",
    "    \n",
    "    tmp = {}\n",
    "    sorted_dist_dict = sorted(dist_dict.items(), key=lambda t: -t[1])\n",
    "    \n",
    "    for idx, (k, v) in enumerate(sorted_dist_dict):\n",
    "        \n",
    "        if idx==0:\n",
    "            prev = v\n",
    "            prev_acc = 0\n",
    "\n",
    "        acc_ratio = (prev_acc + v) / total * 100\n",
    "        \n",
    "        #Escape Rules\n",
    "        if (acc_ratio >= acc_thr): \n",
    "            tmp.update({k:v})\n",
    "            break\n",
    "            \n",
    "        if (idx>n_thr): \n",
    "            break\n",
    "            \n",
    "        tmp.update({k:v})\n",
    "        prev = v\n",
    "        prev_acc += v\n",
    "        \n",
    "    return tmp\n",
    "\n",
    "\n",
    "def get_groups(majors,\n",
    "    rules_A = ['i','s','r'],\n",
    "    rules_B = ['nil','few'],\n",
    "    rules_C = ['present','absent']\n",
    "    ):\n",
    "\n",
    "    group_A = [] \n",
    "    group_B = [] \n",
    "    group_C = [] \n",
    "\n",
    "    message_form = '\\n'.join(['Rules_%s: {}' % c for c in 'ABC'])\n",
    "    print(message_form.format(rules_A, rules_B, rules_C))\n",
    "    \n",
    "    def is_group_A(major_dict):\n",
    "        return sum([1 for k in major_dict.keys() if k in rules_A])\n",
    "    def is_group_B(major_dict):\n",
    "        return sum([1 for k in major_dict.keys() if k in rules_B])\n",
    "    def is_group_C(major_dict):\n",
    "        return sum([1 for s in major_dict.keys() for r in rules_C if re.findall(r, s)])\n",
    "    # def is_group_D(major_dict):\n",
    "    #     return sum([1 for k in major_dict.keys() if k in rules_D])\n",
    "    # def is_group_E(major_dict):\n",
    "    #     return sum([1 for s in major_dict.keys() for r in rules_E if re.findall(r,s)])\n",
    "    # def is_group_F(major_dict):\n",
    "    #     return sum([1 for k in major_dict.keys() for k in rules_F ])\n",
    "    # def is_group_G(major_dict):\n",
    "    #     return sum([1 for k in major_dict.keys() for k in rules_G ])\n",
    "    # def is_group_H(major_dict):\n",
    "    #     return sum([1 for k in major_dict.keys() for k in rules_H ])\n",
    "\n",
    "\n",
    "\n",
    "    for table_cid, major_dict in majors.items():\n",
    "        \n",
    "        if is_group_A(major_dict): \n",
    "            group_A.append(table_cid)\n",
    "            \n",
    "        elif is_group_B(major_dict):\n",
    "            group_B.append(table_cid)\n",
    "            \n",
    "        elif is_group_C(major_dict):\n",
    "            group_C.append(table_cid)\n",
    "            \n",
    "        # elif is_group_D(major_dict):\n",
    "        #     group_D.append(table_cid)\n",
    "        #\n",
    "        # elif is_group_E(major_dict):\n",
    "        #     group_E.append(table_cid)\n",
    "        # elif is_group_F(major_dict):\n",
    "        #     group_F.append(table_cid)\n",
    "        # elif is_group_G(major_dict):\n",
    "        #     group_G.append(table_cid)\n",
    "        # elif is_group_H(major_dict):\n",
    "        #     group_H.append(table_cid)\n",
    "            \n",
    "\n",
    "    merge_group_set = set(group_A + group_B + group_C )\n",
    "    group_others = [table_cid for table_cid in majors.keys() if table_cid not in merge_group_set]\n",
    "    return [group_A, group_B, group_C,  group_others]\n",
    "\n",
    "\n",
    "def get_group_dict(group, regex=lambda x:x):\n",
    "    \n",
    "    group_dict = defaultdict(int)\n",
    "               \n",
    "    for table_cid in group:\n",
    "        for k, v in dist_dicts[table_cid].items():\n",
    "            group_dict[regex(re.sub(r'\\s+', ' ', k))] += v\n",
    "    \n",
    "    return group_dict\n",
    "\n",
    "\n",
    "majors = {table_cid:get_majors_and_minors(dist_dict, acc_thr=99.5)\n",
    "          for table_cid, dist_dict in dist_dicts.items()}\n",
    "groups = get_groups(majors)\n",
    "groups_dict = [get_group_dict(group) for group in groups] \n",
    "groups_sample = [group_dict.keys() for group_dict in groups_dict]\n",
    "               "
   ]
  },
  {
   "cell_type": "code",
   "execution_count": 37,
   "metadata": {},
   "outputs": [],
   "source": [
    "from itertools import chain\n",
    "import pandas as pd\n",
    "from scipy import spatial\n",
    "\n",
    "\n",
    "class Mapper():\n",
    "    def __init__(self, samples, ref_list):\n",
    "        self.samples = samples\n",
    "        self.ref_list = ref_list\n",
    "        \n",
    "    def create_feature_matrix(self, samples1, samples2):\n",
    "        def _create_feature_matrix(samples, refs):\n",
    "            #refs는 feature list\n",
    "            result = []\n",
    "            row_idx = []\n",
    "            for r_idx, ng_str in enumerate(samples):\n",
    "                result.append([0]*len(refs))\n",
    "                for ng_char in ng_str:\n",
    "                    result[r_idx][refs.index(ng_char)] += 1\n",
    "            return result\n",
    "\n",
    "        samples1 = [s.lower() for s in samples1]\n",
    "        samples2 = [s.lower() for s in samples2]\n",
    "        refs = list(set(chain.from_iterable(samples1+samples2)))\n",
    "        matrix1 = _create_feature_matrix(samples1, refs)\n",
    "        matrix2 = _create_feature_matrix(samples2, refs)\n",
    "        return matrix1, matrix2\n",
    "    \n",
    "    def assign_to_ref(self, sample_vectors, ref_vectors, sample_list, ref_list):\n",
    "        def cosine_similarity_matrix(matrix1, matrix2):\n",
    "\n",
    "            distance = []\n",
    "            for s_idx, sample in enumerate(matrix1):\n",
    "                distance.append([])\n",
    "                for ref in matrix2:\n",
    "                    distance[s_idx].append(\n",
    "                        round(1-spatial.distance.cosine(sample, ref),2)\n",
    "                    )\n",
    "            return distance\n",
    "        \n",
    "        def lp_dist_matrix(matrix1, matrix2):\n",
    "            distance = []\n",
    "            for s_idx, sample in enumerate(matrix1):\n",
    "                distance.append([])\n",
    "                for ref in matrix2:\n",
    "                    distance[s_idx].append(\n",
    "                        round(spatial.distance.euclidean(sample, ref),2)\n",
    "                    )\n",
    "            return distance\n",
    "        \n",
    "        def levenshtein_measure(sample_list, ref_list):\n",
    "            def levenshtein(s1, s2):\n",
    "            # based on Wikipedia/Levenshtein_distance\n",
    "                if len(s1) < len(s2):\n",
    "                    return levenshtein(s2, s1)\n",
    "\n",
    "                if len(s2) == 0:\n",
    "                    return len(s1)\n",
    "    \n",
    "                previous_row = range(len(s2) + 1)\n",
    "                for i, c1 in enumerate(s1):\n",
    "                    current_row = [i + 1]\n",
    "                    for j, c2 in enumerate(s2):\n",
    "                        insertions = previous_row[j + 1] + 1\n",
    "                        deletions = current_row[j] + 1\n",
    "                        substitutions = previous_row[j] + (c1 != c2)\n",
    "                        current_row.append(min(insertions, deletions, substitutions))\n",
    "                    previous_row = current_row\n",
    "    \n",
    "                return previous_row[-1]\n",
    "    \n",
    "            distance = []\n",
    "            for s_idx, sample in enumerate(sample_list):\n",
    "                distance.append([])\n",
    "                for ref in ref_list:\n",
    "                    distance[s_idx].append(levenshtein(sample, ref))\n",
    "            return distance\n",
    "\n",
    "        \n",
    "        sample_list = list(sample_list)\n",
    "\n",
    "        cos_scores = cosine_similarity_matrix(sample_vectors, ref_vectors)\n",
    "        lev_scores  = levenshtein_measure(sample_list, ref_list)\n",
    "        lp_dist_scores = lp_dist_matrix(sample_vectors, ref_vectors)\n",
    "        \n",
    "        result = []\n",
    "        outlier = []\n",
    "        for s_idx, sample in enumerate(sample_vectors):\n",
    "            max_cos_score = max(cos_scores[s_idx])\n",
    "            max_cos_idx = cos_scores[s_idx].index(max_cos_score)\n",
    "            max_cos_cnt = cos_scores[s_idx].count(max_cos_score)\n",
    "            min_lp_dist_score = min(lp_dist_scores[s_idx])\n",
    "            min_lp_dist_idx = lp_dist_scores[s_idx].index(min_lp_dist_score)\n",
    "            min_lp_dist_cnt = lp_dist_scores[s_idx].count(min_lp_dist_score)\n",
    "            min_lev_score = min(lev_scores[s_idx])\n",
    "            min_lev_idx = lev_scores[s_idx].index(min_lev_score)\n",
    "            \n",
    "            if max_cos_cnt == len(cos_scores[s_idx]):\n",
    "                outlier.append(\n",
    "                    [sample_list[s_idx],\n",
    "                     ref_list[max_cos_idx],\n",
    "                     cos_scores[s_idx]]\n",
    "                )\n",
    "            else:\n",
    "                result.append(\n",
    "                    [sample_list[s_idx],\n",
    "                     ref_list[max_cos_idx],\n",
    "                     cos_scores[s_idx],\n",
    "                     ref_list[min_lp_dist_idx],\n",
    "                     lp_dist_scores[s_idx],\n",
    "                     ref_list[min_lev_idx],\n",
    "                     lev_scores[s_idx],\n",
    "                     'cosine' if max_cos_cnt <= 1 else 'Eucl',\n",
    "                     ref_list[max_cos_idx] if max_cos_cnt <= 1 else ref_list[min_lp_dist_idx]]\n",
    "                )\n",
    "\n",
    "        return result, outlier\n",
    "    \n",
    "    def get_report_df(self, results):\n",
    "\n",
    "        report_df = pd.DataFrame(\n",
    "            results,\n",
    "            columns=[\n",
    "                'Data',\n",
    "                'cos_word',\n",
    "                'cos_score',\n",
    "                'euc_word',\n",
    "                'euc_score',\n",
    "                'lev_word',\n",
    "                'lev_score',\n",
    "                'Measure',\n",
    "                'Final'\n",
    "            ]\n",
    "        )\n",
    "        report_df = report_df[['Data','Final']]\n",
    "        return report_df\n",
    "    \n",
    "    def analyze(self):\n",
    "        self._sample_vectors, self._ref_vectors = self.create_feature_matrix(\n",
    "            self.samples, self.ref_list)\n",
    "        \n",
    "        self._cluster_results, self._outlier = self.assign_to_ref(\n",
    "            self._sample_vectors, self._ref_vectors, self.samples, self.ref_list)\n",
    "        \n",
    "        self.report_df= self.get_report_df(self._cluster_results)\n",
    "\n",
    "        \n",
    "ref_list_A = ['susceptible', 'inde', 'resistance']\n",
    "ref_list_B = ['nil', 'few']\n",
    "ref_list_C = ['present','absent']\n",
    "\n",
    "\n",
    "groups_agents = [\n",
    "    Mapper(sample, ref_list) for sample, ref_list in zip(\n",
    "        groups_sample[:-1],\n",
    "        [ref_list_A, ref_list_B, ref_list_C]\n",
    "    )\n",
    "]\n",
    "\n",
    "for agent in groups_agents:\n",
    "    agent.analyze()"
   ]
  },
  {
   "cell_type": "code",
   "execution_count": 38,
   "metadata": {
    "scrolled": true
   },
   "outputs": [
    {
     "data": {
      "text/plain": "            Data       Final\n0              s  resistance\n1       md sakil  resistance\n2        shohagh  resistance\n3     md awalthd        inde\n4   mahabub alam        inde\n5    md alam mia  resistance\n6          stock  resistance\n7      asadullah  resistance\n8    afia marium  resistance\n9   ariful islam  resistance\n10             r  resistance",
      "text/html": "<div>\n<style scoped>\n    .dataframe tbody tr th:only-of-type {\n        vertical-align: middle;\n    }\n\n    .dataframe tbody tr th {\n        vertical-align: top;\n    }\n\n    .dataframe thead th {\n        text-align: right;\n    }\n</style>\n<table border=\"1\" class=\"dataframe\">\n  <thead>\n    <tr style=\"text-align: right;\">\n      <th></th>\n      <th>Data</th>\n      <th>Final</th>\n    </tr>\n  </thead>\n  <tbody>\n    <tr>\n      <th>0</th>\n      <td>s</td>\n      <td>resistance</td>\n    </tr>\n    <tr>\n      <th>1</th>\n      <td>md sakil</td>\n      <td>resistance</td>\n    </tr>\n    <tr>\n      <th>2</th>\n      <td>shohagh</td>\n      <td>resistance</td>\n    </tr>\n    <tr>\n      <th>3</th>\n      <td>md awalthd</td>\n      <td>inde</td>\n    </tr>\n    <tr>\n      <th>4</th>\n      <td>mahabub alam</td>\n      <td>inde</td>\n    </tr>\n    <tr>\n      <th>5</th>\n      <td>md alam mia</td>\n      <td>resistance</td>\n    </tr>\n    <tr>\n      <th>6</th>\n      <td>stock</td>\n      <td>resistance</td>\n    </tr>\n    <tr>\n      <th>7</th>\n      <td>asadullah</td>\n      <td>resistance</td>\n    </tr>\n    <tr>\n      <th>8</th>\n      <td>afia marium</td>\n      <td>resistance</td>\n    </tr>\n    <tr>\n      <th>9</th>\n      <td>ariful islam</td>\n      <td>resistance</td>\n    </tr>\n    <tr>\n      <th>10</th>\n      <td>r</td>\n      <td>resistance</td>\n    </tr>\n  </tbody>\n</table>\n</div>"
     },
     "execution_count": 38,
     "metadata": {},
     "output_type": "execute_result"
    }
   ],
   "source": [
    "# 4) Result table\n",
    "groups_agents[0].report_df"
   ]
  },
  {
   "cell_type": "code",
   "execution_count": 39,
   "outputs": [
    {
     "data": {
      "text/plain": "                              Data Final\n0                              nil   nil\n1                              few   few\n2                          present   few\n3                           normal   nil\n4                           plenty   nil\n..                             ...   ...\n153                   500-550 /hpf   few\n154                      present +   few\n155  no fungal element identified.   nil\n156               budding yeast ++   nil\n157                normozoospermia   nil\n\n[158 rows x 2 columns]",
      "text/html": "<div>\n<style scoped>\n    .dataframe tbody tr th:only-of-type {\n        vertical-align: middle;\n    }\n\n    .dataframe tbody tr th {\n        vertical-align: top;\n    }\n\n    .dataframe thead th {\n        text-align: right;\n    }\n</style>\n<table border=\"1\" class=\"dataframe\">\n  <thead>\n    <tr style=\"text-align: right;\">\n      <th></th>\n      <th>Data</th>\n      <th>Final</th>\n    </tr>\n  </thead>\n  <tbody>\n    <tr>\n      <th>0</th>\n      <td>nil</td>\n      <td>nil</td>\n    </tr>\n    <tr>\n      <th>1</th>\n      <td>few</td>\n      <td>few</td>\n    </tr>\n    <tr>\n      <th>2</th>\n      <td>present</td>\n      <td>few</td>\n    </tr>\n    <tr>\n      <th>3</th>\n      <td>normal</td>\n      <td>nil</td>\n    </tr>\n    <tr>\n      <th>4</th>\n      <td>plenty</td>\n      <td>nil</td>\n    </tr>\n    <tr>\n      <th>...</th>\n      <td>...</td>\n      <td>...</td>\n    </tr>\n    <tr>\n      <th>153</th>\n      <td>500-550 /hpf</td>\n      <td>few</td>\n    </tr>\n    <tr>\n      <th>154</th>\n      <td>present +</td>\n      <td>few</td>\n    </tr>\n    <tr>\n      <th>155</th>\n      <td>no fungal element identified.</td>\n      <td>nil</td>\n    </tr>\n    <tr>\n      <th>156</th>\n      <td>budding yeast ++</td>\n      <td>nil</td>\n    </tr>\n    <tr>\n      <th>157</th>\n      <td>normozoospermia</td>\n      <td>nil</td>\n    </tr>\n  </tbody>\n</table>\n<p>158 rows × 2 columns</p>\n</div>"
     },
     "execution_count": 39,
     "metadata": {},
     "output_type": "execute_result"
    }
   ],
   "source": [
    "groups_agents[1].report_df"
   ],
   "metadata": {
    "collapsed": false,
    "pycharm": {
     "name": "#%%\n"
    }
   }
  },
  {
   "cell_type": "code",
   "execution_count": 1,
   "outputs": [
    {
     "ename": "NameError",
     "evalue": "name 'groups_agents' is not defined",
     "output_type": "error",
     "traceback": [
      "\u001B[1;31m---------------------------------------------------------------------------\u001B[0m",
      "\u001B[1;31mNameError\u001B[0m                                 Traceback (most recent call last)",
      "Input \u001B[1;32mIn [1]\u001B[0m, in \u001B[0;36m<cell line: 1>\u001B[1;34m()\u001B[0m\n\u001B[1;32m----> 1\u001B[0m \u001B[43mgroups_agents\u001B[49m[\u001B[38;5;241m2\u001B[39m]\u001B[38;5;241m.\u001B[39mreport_df[\u001B[38;5;241m0\u001B[39m:\u001B[38;5;241m5\u001B[39m]\n",
      "\u001B[1;31mNameError\u001B[0m: name 'groups_agents' is not defined"
     ]
    }
   ],
   "source": [
    "groups_agents[2].report_df[0:5]"
   ],
   "metadata": {
    "collapsed": false,
    "pycharm": {
     "name": "#%%\n"
    }
   }
  },
  {
   "cell_type": "code",
   "execution_count": 33,
   "outputs": [
    {
     "ename": "IndexError",
     "evalue": "list index out of range",
     "output_type": "error",
     "traceback": [
      "\u001B[1;31m---------------------------------------------------------------------------\u001B[0m",
      "\u001B[1;31mIndexError\u001B[0m                                Traceback (most recent call last)",
      "Input \u001B[1;32mIn [33]\u001B[0m, in \u001B[0;36m<cell line: 1>\u001B[1;34m()\u001B[0m\n\u001B[1;32m----> 1\u001B[0m \u001B[43mgroups_agents\u001B[49m\u001B[43m[\u001B[49m\u001B[38;5;241;43m3\u001B[39;49m\u001B[43m]\u001B[49m\u001B[38;5;241m.\u001B[39mreport_df\n",
      "\u001B[1;31mIndexError\u001B[0m: list index out of range"
     ]
    }
   ],
   "source": [
    "groups_agents[3].report_df"
   ],
   "metadata": {
    "collapsed": false,
    "pycharm": {
     "name": "#%%\n"
    }
   }
  },
  {
   "cell_type": "code",
   "execution_count": 34,
   "outputs": [
    {
     "ename": "IndexError",
     "evalue": "list index out of range",
     "output_type": "error",
     "traceback": [
      "\u001B[1;31m---------------------------------------------------------------------------\u001B[0m",
      "\u001B[1;31mIndexError\u001B[0m                                Traceback (most recent call last)",
      "Input \u001B[1;32mIn [34]\u001B[0m, in \u001B[0;36m<cell line: 1>\u001B[1;34m()\u001B[0m\n\u001B[1;32m----> 1\u001B[0m \u001B[43mgroups_agents\u001B[49m\u001B[43m[\u001B[49m\u001B[38;5;241;43m4\u001B[39;49m\u001B[43m]\u001B[49m\u001B[38;5;241m.\u001B[39mreport_df\n",
      "\u001B[1;31mIndexError\u001B[0m: list index out of range"
     ]
    }
   ],
   "source": [
    "groups_agents[4].report_df"
   ],
   "metadata": {
    "collapsed": false,
    "pycharm": {
     "name": "#%%\n"
    }
   }
  },
  {
   "cell_type": "code",
   "execution_count": 141,
   "outputs": [
    {
     "data": {
      "text/plain": "                                                   Data Final\n0                                                   nil   nil\n1                                                   few   few\n2                                               present   few\n3                                                normal   nil\n4                                                plenty   nil\n...                                                 ...   ...\n5066  intermediate metabolizer ---------------------...   nil\n5067                                         0.72 ng/ml   nil\n5068                                         0.11 ng/ml   nil\n5069                                     normal pia1/a1   nil\n5070                               spermatozoa- present   few\n\n[5071 rows x 2 columns]",
      "text/html": "<div>\n<style scoped>\n    .dataframe tbody tr th:only-of-type {\n        vertical-align: middle;\n    }\n\n    .dataframe tbody tr th {\n        vertical-align: top;\n    }\n\n    .dataframe thead th {\n        text-align: right;\n    }\n</style>\n<table border=\"1\" class=\"dataframe\">\n  <thead>\n    <tr style=\"text-align: right;\">\n      <th></th>\n      <th>Data</th>\n      <th>Final</th>\n    </tr>\n  </thead>\n  <tbody>\n    <tr>\n      <th>0</th>\n      <td>nil</td>\n      <td>nil</td>\n    </tr>\n    <tr>\n      <th>1</th>\n      <td>few</td>\n      <td>few</td>\n    </tr>\n    <tr>\n      <th>2</th>\n      <td>present</td>\n      <td>few</td>\n    </tr>\n    <tr>\n      <th>3</th>\n      <td>normal</td>\n      <td>nil</td>\n    </tr>\n    <tr>\n      <th>4</th>\n      <td>plenty</td>\n      <td>nil</td>\n    </tr>\n    <tr>\n      <th>...</th>\n      <td>...</td>\n      <td>...</td>\n    </tr>\n    <tr>\n      <th>5066</th>\n      <td>intermediate metabolizer ---------------------...</td>\n      <td>nil</td>\n    </tr>\n    <tr>\n      <th>5067</th>\n      <td>0.72 ng/ml</td>\n      <td>nil</td>\n    </tr>\n    <tr>\n      <th>5068</th>\n      <td>0.11 ng/ml</td>\n      <td>nil</td>\n    </tr>\n    <tr>\n      <th>5069</th>\n      <td>normal pia1/a1</td>\n      <td>nil</td>\n    </tr>\n    <tr>\n      <th>5070</th>\n      <td>spermatozoa- present</td>\n      <td>few</td>\n    </tr>\n  </tbody>\n</table>\n<p>5071 rows × 2 columns</p>\n</div>"
     },
     "execution_count": 141,
     "metadata": {},
     "output_type": "execute_result"
    }
   ],
   "source": [
    "groups_agents[5].report_df"
   ],
   "metadata": {
    "collapsed": false,
    "pycharm": {
     "name": "#%%\n"
    }
   }
  },
  {
   "cell_type": "code",
   "execution_count": 142,
   "outputs": [
    {
     "data": {
      "text/plain": "Empty DataFrame\nColumns: [Data, Final]\nIndex: []",
      "text/html": "<div>\n<style scoped>\n    .dataframe tbody tr th:only-of-type {\n        vertical-align: middle;\n    }\n\n    .dataframe tbody tr th {\n        vertical-align: top;\n    }\n\n    .dataframe thead th {\n        text-align: right;\n    }\n</style>\n<table border=\"1\" class=\"dataframe\">\n  <thead>\n    <tr style=\"text-align: right;\">\n      <th></th>\n      <th>Data</th>\n      <th>Final</th>\n    </tr>\n  </thead>\n  <tbody>\n  </tbody>\n</table>\n</div>"
     },
     "execution_count": 142,
     "metadata": {},
     "output_type": "execute_result"
    }
   ],
   "source": [
    "groups_agents[6].report_df"
   ],
   "metadata": {
    "collapsed": false,
    "pycharm": {
     "name": "#%%\n"
    }
   }
  },
  {
   "cell_type": "code",
   "execution_count": 143,
   "outputs": [
    {
     "data": {
      "text/plain": "Empty DataFrame\nColumns: [Data, Final]\nIndex: []",
      "text/html": "<div>\n<style scoped>\n    .dataframe tbody tr th:only-of-type {\n        vertical-align: middle;\n    }\n\n    .dataframe tbody tr th {\n        vertical-align: top;\n    }\n\n    .dataframe thead th {\n        text-align: right;\n    }\n</style>\n<table border=\"1\" class=\"dataframe\">\n  <thead>\n    <tr style=\"text-align: right;\">\n      <th></th>\n      <th>Data</th>\n      <th>Final</th>\n    </tr>\n  </thead>\n  <tbody>\n  </tbody>\n</table>\n</div>"
     },
     "execution_count": 143,
     "metadata": {},
     "output_type": "execute_result"
    }
   ],
   "source": [
    "groups_agents[7].report_df"
   ],
   "metadata": {
    "collapsed": false,
    "pycharm": {
     "name": "#%%\n"
    }
   }
  },
  {
   "cell_type": "code",
   "execution_count": 22,
   "outputs": [],
   "source": [
    "result_appearance = groups_agents[0].report_df"
   ],
   "metadata": {
    "collapsed": false,
    "pycharm": {
     "name": "#%%\n"
    }
   }
  },
  {
   "cell_type": "code",
   "execution_count": 24,
   "metadata": {},
   "outputs": [
    {
     "data": {
      "text/plain": "                    Data  Final\n0                    nil    neg\n1                     ++     ++\n2                      +      +\n3                    +++    +++\n4                  trace  trace\n5                   ++++   ++++\n6                    few    neg\n7               very few  trace\n8                  a few  trace\n9                 scanty  trace\n10  few, veg: fibre: few    neg",
      "text/html": "<div>\n<style scoped>\n    .dataframe tbody tr th:only-of-type {\n        vertical-align: middle;\n    }\n\n    .dataframe tbody tr th {\n        vertical-align: top;\n    }\n\n    .dataframe thead th {\n        text-align: right;\n    }\n</style>\n<table border=\"1\" class=\"dataframe\">\n  <thead>\n    <tr style=\"text-align: right;\">\n      <th></th>\n      <th>Data</th>\n      <th>Final</th>\n    </tr>\n  </thead>\n  <tbody>\n    <tr>\n      <th>0</th>\n      <td>nil</td>\n      <td>neg</td>\n    </tr>\n    <tr>\n      <th>1</th>\n      <td>++</td>\n      <td>++</td>\n    </tr>\n    <tr>\n      <th>2</th>\n      <td>+</td>\n      <td>+</td>\n    </tr>\n    <tr>\n      <th>3</th>\n      <td>+++</td>\n      <td>+++</td>\n    </tr>\n    <tr>\n      <th>4</th>\n      <td>trace</td>\n      <td>trace</td>\n    </tr>\n    <tr>\n      <th>5</th>\n      <td>++++</td>\n      <td>++++</td>\n    </tr>\n    <tr>\n      <th>6</th>\n      <td>few</td>\n      <td>neg</td>\n    </tr>\n    <tr>\n      <th>7</th>\n      <td>very few</td>\n      <td>trace</td>\n    </tr>\n    <tr>\n      <th>8</th>\n      <td>a few</td>\n      <td>trace</td>\n    </tr>\n    <tr>\n      <th>9</th>\n      <td>scanty</td>\n      <td>trace</td>\n    </tr>\n    <tr>\n      <th>10</th>\n      <td>few, veg: fibre: few</td>\n      <td>neg</td>\n    </tr>\n  </tbody>\n</table>\n</div>"
     },
     "execution_count": 24,
     "metadata": {},
     "output_type": "execute_result"
    }
   ],
   "source": [
    "groups_agents[1].report_df"
   ]
  },
  {
   "cell_type": "code",
   "execution_count": 30,
   "outputs": [
    {
     "data": {
      "text/plain": "     Data Final\n0     nil   nil\n1   trace   few\n2  watery   few\n3  turbid   nil",
      "text/html": "<div>\n<style scoped>\n    .dataframe tbody tr th:only-of-type {\n        vertical-align: middle;\n    }\n\n    .dataframe tbody tr th {\n        vertical-align: top;\n    }\n\n    .dataframe thead th {\n        text-align: right;\n    }\n</style>\n<table border=\"1\" class=\"dataframe\">\n  <thead>\n    <tr style=\"text-align: right;\">\n      <th></th>\n      <th>Data</th>\n      <th>Final</th>\n    </tr>\n  </thead>\n  <tbody>\n    <tr>\n      <th>0</th>\n      <td>nil</td>\n      <td>nil</td>\n    </tr>\n    <tr>\n      <th>1</th>\n      <td>trace</td>\n      <td>few</td>\n    </tr>\n    <tr>\n      <th>2</th>\n      <td>watery</td>\n      <td>few</td>\n    </tr>\n    <tr>\n      <th>3</th>\n      <td>turbid</td>\n      <td>nil</td>\n    </tr>\n  </tbody>\n</table>\n</div>"
     },
     "execution_count": 30,
     "metadata": {},
     "output_type": "execute_result"
    }
   ],
   "source": [
    "groups_agents[5].report_df"
   ],
   "metadata": {
    "collapsed": false,
    "pycharm": {
     "name": "#%%\n"
    }
   }
  },
  {
   "cell_type": "code",
   "execution_count": 67,
   "outputs": [
    {
     "name": "stdout",
     "output_type": "stream",
     "text": [
      "63\n"
     ]
    }
   ],
   "source": [
    "print(29+11+9+11+3)"
   ],
   "metadata": {
    "collapsed": false,
    "pycharm": {
     "name": "#%%\n"
    }
   }
  },
  {
   "cell_type": "code",
   "execution_count": 70,
   "outputs": [
    {
     "data": {
      "text/plain": "55.78947368421052"
     },
     "execution_count": 70,
     "metadata": {},
     "output_type": "execute_result"
    }
   ],
   "source": [
    "(53/95) * 100\n"
   ],
   "metadata": {
    "collapsed": false,
    "pycharm": {
     "name": "#%%\n"
    }
   }
  },
  {
   "cell_type": "code",
   "execution_count": null,
   "outputs": [],
   "source": [
    "# first salt c = 40.47 %\n",
    "#\n",
    "# corectly catagorizing = 36.90 %"
   ],
   "metadata": {
    "collapsed": false,
    "pycharm": {
     "name": "#%%\n"
    }
   }
  },
  {
   "cell_type": "code",
   "execution_count": null,
   "outputs": [],
   "source": [
    "# initial catagorize = 54.76 %\n",
    "#correct catagorize = 44.05 %"
   ],
   "metadata": {
    "collapsed": false,
    "pycharm": {
     "name": "#%%\n"
    }
   }
  }
 ],
 "metadata": {
  "kernelspec": {
   "display_name": "Python 3",
   "language": "python",
   "name": "python3"
  },
  "language_info": {
   "codemirror_mode": {
    "name": "ipython",
    "version": 3
   },
   "file_extension": ".py",
   "mimetype": "text/x-python",
   "name": "python",
   "nbconvert_exporter": "python",
   "pygments_lexer": "ipython3",
   "version": "3.6.4"
  }
 },
 "nbformat": 4,
 "nbformat_minor": 2
}